{
 "cells": [
  {
   "cell_type": "markdown",
   "id": "99ce8dfc-4460-4db6-95a5-4dd871dbbdd3",
   "metadata": {},
   "source": [
    "# POSTTEST8"
   ]
  },
  {
   "cell_type": "markdown",
   "id": "af39ffc5-919b-4a64-8267-7872b55be656",
   "metadata": {},
   "source": [
    "### Import Library"
   ]
  },
  {
   "cell_type": "code",
   "execution_count": 32,
   "id": "9060068b-faa0-423a-8a49-e4a92650e401",
   "metadata": {},
   "outputs": [],
   "source": [
    "import pandas as pd\n",
    "import matplotlib.pyplot as plt\n",
    "import numpy as np\n",
    "from sklearn.model_selection import train_test_split # Data Split\n",
    "import tensorflow as tf\n",
    "import tensorflow.keras.datasets as tfds\n",
    "\n",
    "# Data Split\n",
    "# Testing dan Training data\n",
    "from sklearn.model_selection import train_test_split \n",
    "\n",
    "# Data Transforming\n",
    "# Standarisasi\n",
    "from sklearn.preprocessing import StandardScaler \n",
    "\n",
    "# Normalisasi\n",
    "from sklearn.preprocessing import MinMaxScaler\n",
    "\n",
    "# Data Cleaning\n",
    "# Subtitusi nilai\n",
    "from sklearn.impute import SimpleImputer \n",
    "\n",
    "# Data Encoding\n",
    "# Onehot\n",
    "from sklearn.preprocessing import OneHotEncoder"
   ]
  },
  {
   "cell_type": "code",
   "execution_count": 33,
   "id": "2b01aafd-1b83-4197-affe-5f805d91e085",
   "metadata": {},
   "outputs": [
    {
     "data": {
      "text/html": [
       "<div>\n",
       "<style scoped>\n",
       "    .dataframe tbody tr th:only-of-type {\n",
       "        vertical-align: middle;\n",
       "    }\n",
       "\n",
       "    .dataframe tbody tr th {\n",
       "        vertical-align: top;\n",
       "    }\n",
       "\n",
       "    .dataframe thead th {\n",
       "        text-align: right;\n",
       "    }\n",
       "</style>\n",
       "<table border=\"1\" class=\"dataframe\">\n",
       "  <thead>\n",
       "    <tr style=\"text-align: right;\">\n",
       "      <th></th>\n",
       "      <th>name</th>\n",
       "      <th>shirt_number</th>\n",
       "      <th>team_name</th>\n",
       "      <th>league</th>\n",
       "      <th>nationality</th>\n",
       "      <th>region</th>\n",
       "      <th>height</th>\n",
       "      <th>weight</th>\n",
       "      <th>age</th>\n",
       "      <th>foot</th>\n",
       "      <th>...</th>\n",
       "      <th>com_playing_style_incisive_run</th>\n",
       "      <th>com_playing_style_early_cross</th>\n",
       "      <th>com_playing_style_long_ball_expert</th>\n",
       "      <th>com_playing_style_long_ranger</th>\n",
       "      <th>height_over_185</th>\n",
       "      <th>age_u_24</th>\n",
       "      <th>age_25_29</th>\n",
       "      <th>age_30_plus</th>\n",
       "      <th>ball_color</th>\n",
       "      <th>rating_stars</th>\n",
       "    </tr>\n",
       "  </thead>\n",
       "  <tbody>\n",
       "    <tr>\n",
       "      <th>0</th>\n",
       "      <td>NEYMAR</td>\n",
       "      <td>10</td>\n",
       "      <td>PSG</td>\n",
       "      <td>Ligue 1 Conforama</td>\n",
       "      <td>BRAZIL</td>\n",
       "      <td>South America</td>\n",
       "      <td>175</td>\n",
       "      <td>68</td>\n",
       "      <td>27</td>\n",
       "      <td>Right foot</td>\n",
       "      <td>...</td>\n",
       "      <td>1</td>\n",
       "      <td>0</td>\n",
       "      <td>0</td>\n",
       "      <td>0</td>\n",
       "      <td>0</td>\n",
       "      <td>0</td>\n",
       "      <td>1</td>\n",
       "      <td>0</td>\n",
       "      <td>black</td>\n",
       "      <td>5</td>\n",
       "    </tr>\n",
       "    <tr>\n",
       "      <th>1</th>\n",
       "      <td>M. NEUER</td>\n",
       "      <td>1</td>\n",
       "      <td>FC BAYERN MÜNCHEN</td>\n",
       "      <td>Other European Leagues</td>\n",
       "      <td>GERMANY</td>\n",
       "      <td>Europe</td>\n",
       "      <td>193</td>\n",
       "      <td>92</td>\n",
       "      <td>33</td>\n",
       "      <td>Right foot</td>\n",
       "      <td>...</td>\n",
       "      <td>0</td>\n",
       "      <td>0</td>\n",
       "      <td>0</td>\n",
       "      <td>0</td>\n",
       "      <td>1</td>\n",
       "      <td>0</td>\n",
       "      <td>0</td>\n",
       "      <td>1</td>\n",
       "      <td>black</td>\n",
       "      <td>5</td>\n",
       "    </tr>\n",
       "    <tr>\n",
       "      <th>2</th>\n",
       "      <td>EDU CAMPABADAL</td>\n",
       "      <td>22</td>\n",
       "      <td>LUGO RB</td>\n",
       "      <td>Spanish 2nd Division</td>\n",
       "      <td>SPAIN</td>\n",
       "      <td>Europe</td>\n",
       "      <td>178</td>\n",
       "      <td>77</td>\n",
       "      <td>26</td>\n",
       "      <td>Right foot</td>\n",
       "      <td>...</td>\n",
       "      <td>0</td>\n",
       "      <td>0</td>\n",
       "      <td>0</td>\n",
       "      <td>0</td>\n",
       "      <td>0</td>\n",
       "      <td>0</td>\n",
       "      <td>1</td>\n",
       "      <td>0</td>\n",
       "      <td>white</td>\n",
       "      <td>1</td>\n",
       "    </tr>\n",
       "    <tr>\n",
       "      <th>3</th>\n",
       "      <td>FRAN CRUZ</td>\n",
       "      <td>5</td>\n",
       "      <td>EXTREMADURA AR</td>\n",
       "      <td>Spanish 2nd Division</td>\n",
       "      <td>SPAIN</td>\n",
       "      <td>Europe</td>\n",
       "      <td>184</td>\n",
       "      <td>73</td>\n",
       "      <td>28</td>\n",
       "      <td>Right foot</td>\n",
       "      <td>...</td>\n",
       "      <td>0</td>\n",
       "      <td>0</td>\n",
       "      <td>0</td>\n",
       "      <td>0</td>\n",
       "      <td>0</td>\n",
       "      <td>0</td>\n",
       "      <td>1</td>\n",
       "      <td>0</td>\n",
       "      <td>white</td>\n",
       "      <td>1</td>\n",
       "    </tr>\n",
       "    <tr>\n",
       "      <th>4</th>\n",
       "      <td>DANI PINILLOS</td>\n",
       "      <td>23</td>\n",
       "      <td>BARNSLEY R</td>\n",
       "      <td>English 2nd Division</td>\n",
       "      <td>SPAIN</td>\n",
       "      <td>Europe</td>\n",
       "      <td>183</td>\n",
       "      <td>74</td>\n",
       "      <td>27</td>\n",
       "      <td>Left foot</td>\n",
       "      <td>...</td>\n",
       "      <td>0</td>\n",
       "      <td>1</td>\n",
       "      <td>1</td>\n",
       "      <td>0</td>\n",
       "      <td>0</td>\n",
       "      <td>0</td>\n",
       "      <td>1</td>\n",
       "      <td>0</td>\n",
       "      <td>white</td>\n",
       "      <td>1</td>\n",
       "    </tr>\n",
       "  </tbody>\n",
       "</table>\n",
       "<p>5 rows × 124 columns</p>\n",
       "</div>"
      ],
      "text/plain": [
       "             name shirt_number          team_name                  league  \\\n",
       "0          NEYMAR           10                PSG       Ligue 1 Conforama   \n",
       "1        M. NEUER            1  FC BAYERN MÜNCHEN  Other European Leagues   \n",
       "2  EDU CAMPABADAL           22            LUGO RB    Spanish 2nd Division   \n",
       "3       FRAN CRUZ            5     EXTREMADURA AR    Spanish 2nd Division   \n",
       "4   DANI PINILLOS           23         BARNSLEY R    English 2nd Division   \n",
       "\n",
       "  nationality         region  height  weight  age        foot  ...  \\\n",
       "0      BRAZIL  South America     175      68   27  Right foot  ...   \n",
       "1     GERMANY         Europe     193      92   33  Right foot  ...   \n",
       "2       SPAIN         Europe     178      77   26  Right foot  ...   \n",
       "3       SPAIN         Europe     184      73   28  Right foot  ...   \n",
       "4       SPAIN         Europe     183      74   27   Left foot  ...   \n",
       "\n",
       "  com_playing_style_incisive_run com_playing_style_early_cross  \\\n",
       "0                              1                             0   \n",
       "1                              0                             0   \n",
       "2                              0                             0   \n",
       "3                              0                             0   \n",
       "4                              0                             1   \n",
       "\n",
       "   com_playing_style_long_ball_expert  com_playing_style_long_ranger  \\\n",
       "0                                   0                              0   \n",
       "1                                   0                              0   \n",
       "2                                   0                              0   \n",
       "3                                   0                              0   \n",
       "4                                   1                              0   \n",
       "\n",
       "   height_over_185  age_u_24  age_25_29  age_30_plus  ball_color  rating_stars  \n",
       "0                0         0          1            0       black             5  \n",
       "1                1         0          0            1       black             5  \n",
       "2                0         0          1            0       white             1  \n",
       "3                0         0          1            0       white             1  \n",
       "4                0         0          1            0       white             1  \n",
       "\n",
       "[5 rows x 124 columns]"
      ]
     },
     "execution_count": 33,
     "metadata": {},
     "output_type": "execute_result"
    }
   ],
   "source": [
    "dataset_pes = pd.read_csv('deets-updated.csv')\n",
    "dataset_pes.head()"
   ]
  },
  {
   "cell_type": "code",
   "execution_count": 34,
   "id": "cbb056b4-4057-458a-a9fa-4d4c2c23b22d",
   "metadata": {},
   "outputs": [],
   "source": [
    "\n",
    "# bikin alat\n",
    "imputer_mean = SimpleImputer(strategy = 'mean')\n",
    "\n",
    "#mean\n",
    "dataset_pes['LWF'] = imputer_mean.fit_transform(dataset_pes[['LWF']])\n",
    "dataset_pes['SS'] = imputer_mean.fit_transform(dataset_pes[['SS']])\n",
    "dataset_pes['CF'] = imputer_mean.fit_transform(dataset_pes[['CF']])\n",
    "dataset_pes['RWF'] = imputer_mean.fit_transform(dataset_pes[['RWF']])"
   ]
  },
  {
   "cell_type": "code",
   "execution_count": 35,
   "id": "7602f145-fb5f-4e31-aab8-cb25286751d8",
   "metadata": {},
   "outputs": [
    {
     "data": {
      "text/plain": [
       "0"
      ]
     },
     "execution_count": 35,
     "metadata": {},
     "output_type": "execute_result"
    }
   ],
   "source": [
    "dataset_pes.drop_duplicates(inplace=True)\n",
    "\n",
    "dataset_pes.duplicated().sum()"
   ]
  },
  {
   "cell_type": "code",
   "execution_count": 36,
   "id": "d5025a12-f46b-479b-9cc6-39e807b43f1a",
   "metadata": {},
   "outputs": [],
   "source": [
    "data = dataset_pes[['height','weight','age','overall_rating']]\n",
    "label = dataset_pes['rating_stars']\n",
    "\n",
    "data_train, data_test, label_train, label_test = train_test_split(data, label, test_size=.3)"
   ]
  },
  {
   "cell_type": "code",
   "execution_count": 37,
   "id": "9202f799-fcb8-4045-86ca-94ae6726a22d",
   "metadata": {},
   "outputs": [
    {
     "data": {
      "text/html": [
       "<div>\n",
       "<style scoped>\n",
       "    .dataframe tbody tr th:only-of-type {\n",
       "        vertical-align: middle;\n",
       "    }\n",
       "\n",
       "    .dataframe tbody tr th {\n",
       "        vertical-align: top;\n",
       "    }\n",
       "\n",
       "    .dataframe thead th {\n",
       "        text-align: right;\n",
       "    }\n",
       "</style>\n",
       "<table border=\"1\" class=\"dataframe\">\n",
       "  <thead>\n",
       "    <tr style=\"text-align: right;\">\n",
       "      <th></th>\n",
       "      <th>height</th>\n",
       "      <th>weight</th>\n",
       "      <th>age</th>\n",
       "      <th>overall_rating</th>\n",
       "    </tr>\n",
       "  </thead>\n",
       "  <tbody>\n",
       "    <tr>\n",
       "      <th>0</th>\n",
       "      <td>0.457627</td>\n",
       "      <td>0.338235</td>\n",
       "      <td>0.428571</td>\n",
       "      <td>0.954545</td>\n",
       "    </tr>\n",
       "    <tr>\n",
       "      <th>1</th>\n",
       "      <td>0.762712</td>\n",
       "      <td>0.691176</td>\n",
       "      <td>0.642857</td>\n",
       "      <td>0.886364</td>\n",
       "    </tr>\n",
       "    <tr>\n",
       "      <th>2</th>\n",
       "      <td>0.508475</td>\n",
       "      <td>0.470588</td>\n",
       "      <td>0.392857</td>\n",
       "      <td>0.409091</td>\n",
       "    </tr>\n",
       "    <tr>\n",
       "      <th>3</th>\n",
       "      <td>0.610169</td>\n",
       "      <td>0.411765</td>\n",
       "      <td>0.464286</td>\n",
       "      <td>0.363636</td>\n",
       "    </tr>\n",
       "    <tr>\n",
       "      <th>4</th>\n",
       "      <td>0.593220</td>\n",
       "      <td>0.426471</td>\n",
       "      <td>0.428571</td>\n",
       "      <td>0.363636</td>\n",
       "    </tr>\n",
       "  </tbody>\n",
       "</table>\n",
       "</div>"
      ],
      "text/plain": [
       "     height    weight       age  overall_rating\n",
       "0  0.457627  0.338235  0.428571        0.954545\n",
       "1  0.762712  0.691176  0.642857        0.886364\n",
       "2  0.508475  0.470588  0.392857        0.409091\n",
       "3  0.610169  0.411765  0.464286        0.363636\n",
       "4  0.593220  0.426471  0.428571        0.363636"
      ]
     },
     "execution_count": 37,
     "metadata": {},
     "output_type": "execute_result"
    }
   ],
   "source": [
    "#Normalisasi\n",
    "scaler = MinMaxScaler()\n",
    "\n",
    "normalize_dataset = scaler.fit_transform(dataset_pes[['height', 'weight', 'age','overall_rating']])\n",
    "\n",
    "normalize_dataset = pd.DataFrame(normalize_dataset)\n",
    "normalize_dataset.rename(columns={ 0 :'height', 1 : 'weight', 2 : 'age', 3 : 'overall_rating'}, inplace=True)\n",
    "\n",
    "normalize_dataset.head(5)"
   ]
  },
  {
   "cell_type": "code",
   "execution_count": 38,
   "id": "35b58ac6-1338-40b6-9ffd-31002085180b",
   "metadata": {},
   "outputs": [
    {
     "name": "stdout",
     "output_type": "stream",
     "text": [
      "Dataset sebelum scalling:\n",
      "             name shirt_number                  league nationality  \\\n",
      "0          NEYMAR           10       Ligue 1 Conforama      BRAZIL   \n",
      "1        M. NEUER            1  Other European Leagues     GERMANY   \n",
      "2  EDU CAMPABADAL           22    Spanish 2nd Division       SPAIN   \n",
      "3       FRAN CRUZ            5    Spanish 2nd Division       SPAIN   \n",
      "4   DANI PINILLOS           23    English 2nd Division       SPAIN   \n",
      "5       N. OBIORA            4                Liga NOS     NIGERIA   \n",
      "\n",
      "          region  height  weight  age        foot condition  ...  \\\n",
      "0  South America     175      68   27  Right foot         C  ...   \n",
      "1         Europe     193      92   33  Right foot         C  ...   \n",
      "2         Europe     178      77   26  Right foot         C  ...   \n",
      "3         Europe     184      73   28  Right foot         C  ...   \n",
      "4         Europe     183      74   27   Left foot         C  ...   \n",
      "5         Africa     183      77   28   Left foot         C  ...   \n",
      "\n",
      "  com_playing_style_speeding_bullet  com_playing_style_incisive_run  \\\n",
      "0                                 1                               1   \n",
      "1                                 0                               0   \n",
      "2                                 0                               0   \n",
      "3                                 0                               0   \n",
      "4                                 0                               0   \n",
      "5                                 0                               0   \n",
      "\n",
      "   com_playing_style_early_cross  com_playing_style_long_ball_expert  \\\n",
      "0                              0                                   0   \n",
      "1                              0                                   0   \n",
      "2                              0                                   0   \n",
      "3                              0                                   0   \n",
      "4                              1                                   1   \n",
      "5                              0                                   0   \n",
      "\n",
      "   com_playing_style_long_ranger  height_over_185  age_u_24  age_25_29  \\\n",
      "0                              0                0         0          1   \n",
      "1                              0                1         0          0   \n",
      "2                              0                0         0          1   \n",
      "3                              0                0         0          1   \n",
      "4                              0                0         0          1   \n",
      "5                              0                0         0          1   \n",
      "\n",
      "   age_30_plus  ball_color  \n",
      "0            0       black  \n",
      "1            1       black  \n",
      "2            0       white  \n",
      "3            0       white  \n",
      "4            0       white  \n",
      "5            0       white  \n",
      "\n",
      "[6 rows x 122 columns]\n",
      "\n",
      "Nilai standar deviasi:\n",
      "height            1.0\n",
      "weight            1.0\n",
      "age               1.0\n",
      "overall_rating    1.0\n",
      "dtype: float64\n",
      "\n",
      "Dataset setelah scalling:\n",
      "     height    weight       age  overall_rating\n",
      "0 -0.840974 -0.961276  0.365042        3.532426\n",
      "1  1.809836  2.569171  1.594104        3.081740\n",
      "2 -0.399173  0.362641  0.160198       -0.073060\n",
      "3  0.484431 -0.225766  0.569886       -0.373518\n",
      "4  0.337164 -0.078664  0.365042       -0.373518\n",
      "5  0.337164  0.362641  0.569886        0.077168\n",
      "Nilai standar deviasi: height            1.0\n",
      "weight            1.0\n",
      "age               1.0\n",
      "overall_rating    1.0\n",
      "dtype: float64\n"
     ]
    }
   ],
   "source": [
    "#Standarisasi\n",
    "dataset_pes.drop('rating_stars', axis=1, inplace=True)\n",
    "\n",
    "standart_std = StandardScaler()\n",
    "\n",
    "scaled_data = standart_std.fit_transform(dataset_pes[['height', 'weight', 'age', 'overall_rating']])\n",
    "scaled_data = pd.DataFrame(scaled_data)\n",
    "scaled_data.rename(columns={ 0 :'height', 1 : 'weight', 2 : 'age', 3 : 'overall_rating'}, inplace=True)\n",
    "\n",
    "scaled_data_pes = standart_std.fit_transform(dataset_pes[['height', 'weight', 'age', 'overall_rating']])\n",
    "scaled_data_pes = pd.DataFrame(scaled_data_pes)\n",
    "scaled_data_pes.rename(columns={ 0 :'height', 1 : 'weight', 2 : 'age', 3 : 'overall_rating'}, inplace=True)\n",
    "\n",
    "print('Dataset sebelum scalling:',  # SEBELUM\n",
    "      dataset_pes.drop('team_name', axis=1).head(6),'\\n'\n",
    "      f'Nilai standar deviasi:\\n{np.std(scaled_data_pes)}',\n",
    "      sep='\\n', end='\\n\\n')\n",
    "\n",
    "print('Dataset setelah scalling:',  # SESUDAH\n",
    "      scaled_data[:6],\n",
    "      f'Nilai standar deviasi: {np.std(scaled_data)}',\n",
    "      sep='\\n')"
   ]
  },
  {
   "cell_type": "code",
   "execution_count": 39,
   "id": "7ef054c9-6be9-4024-9000-aa187fec2be8",
   "metadata": {},
   "outputs": [
    {
     "data": {
      "text/plain": [
       "(15031, 4)"
      ]
     },
     "execution_count": 39,
     "metadata": {},
     "output_type": "execute_result"
    }
   ],
   "source": [
    "data.shape"
   ]
  },
  {
   "cell_type": "code",
   "execution_count": 40,
   "id": "64132482-883b-43f4-8ce5-d1ad32bee53f",
   "metadata": {},
   "outputs": [
    {
     "data": {
      "text/html": [
       "<div>\n",
       "<style scoped>\n",
       "    .dataframe tbody tr th:only-of-type {\n",
       "        vertical-align: middle;\n",
       "    }\n",
       "\n",
       "    .dataframe tbody tr th {\n",
       "        vertical-align: top;\n",
       "    }\n",
       "\n",
       "    .dataframe thead th {\n",
       "        text-align: right;\n",
       "    }\n",
       "</style>\n",
       "<table border=\"1\" class=\"dataframe\">\n",
       "  <thead>\n",
       "    <tr style=\"text-align: right;\">\n",
       "      <th></th>\n",
       "      <th>height</th>\n",
       "      <th>weight</th>\n",
       "      <th>age</th>\n",
       "      <th>overall_rating</th>\n",
       "    </tr>\n",
       "  </thead>\n",
       "  <tbody>\n",
       "    <tr>\n",
       "      <th>height</th>\n",
       "      <td>1.000000</td>\n",
       "      <td>0.749935</td>\n",
       "      <td>0.123528</td>\n",
       "      <td>0.120263</td>\n",
       "    </tr>\n",
       "    <tr>\n",
       "      <th>weight</th>\n",
       "      <td>0.749935</td>\n",
       "      <td>1.000000</td>\n",
       "      <td>0.215062</td>\n",
       "      <td>0.168111</td>\n",
       "    </tr>\n",
       "    <tr>\n",
       "      <th>age</th>\n",
       "      <td>0.123528</td>\n",
       "      <td>0.215062</td>\n",
       "      <td>1.000000</td>\n",
       "      <td>0.473702</td>\n",
       "    </tr>\n",
       "    <tr>\n",
       "      <th>overall_rating</th>\n",
       "      <td>0.120263</td>\n",
       "      <td>0.168111</td>\n",
       "      <td>0.473702</td>\n",
       "      <td>1.000000</td>\n",
       "    </tr>\n",
       "  </tbody>\n",
       "</table>\n",
       "</div>"
      ],
      "text/plain": [
       "                  height    weight       age  overall_rating\n",
       "height          1.000000  0.749935  0.123528        0.120263\n",
       "weight          0.749935  1.000000  0.215062        0.168111\n",
       "age             0.123528  0.215062  1.000000        0.473702\n",
       "overall_rating  0.120263  0.168111  0.473702        1.000000"
      ]
     },
     "execution_count": 40,
     "metadata": {},
     "output_type": "execute_result"
    }
   ],
   "source": [
    "data.corr()"
   ]
  },
  {
   "cell_type": "code",
   "execution_count": 41,
   "id": "78d974c9-dc13-4dcf-8985-dd158eaec2b3",
   "metadata": {},
   "outputs": [
    {
     "data": {
      "text/plain": [
       "height            0\n",
       "weight            0\n",
       "age               0\n",
       "overall_rating    0\n",
       "dtype: int64"
      ]
     },
     "execution_count": 41,
     "metadata": {},
     "output_type": "execute_result"
    }
   ],
   "source": [
    "data.isna().sum()"
   ]
  },
  {
   "cell_type": "code",
   "execution_count": 42,
   "id": "dd9eb308-2d9a-4f2d-9246-b96a6f9638ad",
   "metadata": {},
   "outputs": [
    {
     "name": "stdout",
     "output_type": "stream",
     "text": [
      "the length of data train is 10521\n",
      "the length of label train is 10521\n",
      "the length of data test is 4510\n",
      "the length of label test is 4510\n"
     ]
    }
   ],
   "source": [
    "print(f'the length of data train is {len(data_train)}',\n",
    "      f'the length of label train is {len(label_train)}',\n",
    "      f'the length of data test is {len(data_test)}',\n",
    "      f'the length of label test is {len(label_test)}',\n",
    "      sep='\\n')"
   ]
  },
  {
   "cell_type": "code",
   "execution_count": 43,
   "id": "cd393119-ae4e-49ab-ad43-9bec1854229a",
   "metadata": {},
   "outputs": [
    {
     "data": {
      "text/plain": [
       "(10521, 4)"
      ]
     },
     "execution_count": 43,
     "metadata": {},
     "output_type": "execute_result"
    }
   ],
   "source": [
    "data_train.shape"
   ]
  },
  {
   "cell_type": "code",
   "execution_count": 49,
   "id": "3540723b-a305-48da-8112-686eb3b17ad9",
   "metadata": {},
   "outputs": [],
   "source": [
    "model = tf.keras.Sequential([\n",
    "    tf.keras.layers.Dense(32, activation='relu',input_dim = 10521),\n",
    "    tf.keras.layers.Dense(32, activation='relu'),\n",
    "    tf.keras.layers.Dense(1, activation='softmax')\n",
    "])"
   ]
  },
  {
   "cell_type": "code",
   "execution_count": 50,
   "id": "3d6c05c2-efaa-4521-8c54-752a06e2b26c",
   "metadata": {},
   "outputs": [
    {
     "name": "stdout",
     "output_type": "stream",
     "text": [
      "Model: \"sequential_1\"\n",
      "_________________________________________________________________\n",
      " Layer (type)                Output Shape              Param #   \n",
      "=================================================================\n",
      " dense_3 (Dense)             (None, 32)                160       \n",
      "                                                                 \n",
      " dense_4 (Dense)             (None, 32)                1056      \n",
      "                                                                 \n",
      " dense_5 (Dense)             (None, 1)                 33        \n",
      "                                                                 \n",
      "=================================================================\n",
      "Total params: 1,249\n",
      "Trainable params: 1,249\n",
      "Non-trainable params: 0\n",
      "_________________________________________________________________\n"
     ]
    }
   ],
   "source": [
    "#Ringkasan\n",
    "model.summary()"
   ]
  },
  {
   "cell_type": "code",
   "execution_count": 51,
   "id": "2a0df321-58e2-4e9c-b811-e0762805a32f",
   "metadata": {},
   "outputs": [],
   "source": [
    "# Compile model\n",
    "model.compile( optimizer='adam', loss='binary_crossentropy', metrics=['accuracy'])"
   ]
  },
  {
   "cell_type": "code",
   "execution_count": 54,
   "id": "91f15639-f763-415c-8f4d-be126cd6ec73",
   "metadata": {},
   "outputs": [
    {
     "name": "stdout",
     "output_type": "stream",
     "text": [
      "Epoch 1/2\n",
      "329/329 [==============================] - 0s 1ms/step - loss: -62704604.0000 - accuracy: 0.5651 - val_loss: -66973504.0000 - val_accuracy: 0.5639\n",
      "Epoch 2/2\n",
      "329/329 [==============================] - 0s 1ms/step - loss: -68898696.0000 - accuracy: 0.5651 - val_loss: -73470248.0000 - val_accuracy: 0.5639\n"
     ]
    }
   ],
   "source": [
    "history = model.fit(\n",
    "    data_train,\n",
    "    label_train,\n",
    "    epochs=2,\n",
    "    validation_data=(data_test, label_test)\n",
    ")"
   ]
  },
  {
   "cell_type": "code",
   "execution_count": 53,
   "id": "facecb2d-193c-47ca-bf9c-36424cd6a96c",
   "metadata": {},
   "outputs": [
    {
     "data": {
      "image/png": "[encoded data removed]",
      "text/plain": [
       "<Figure size 640x480 with 1 Axes>"
      ]
     },
     "metadata": {},
     "output_type": "display_data"
    }
   ],
   "source": [
    "# Grafik learning rate\n",
    "grafik = range(len(history.history['accuracy']))\n",
    "plt.plot(grafik, history.history['accuracy'], label='Training')\n",
    "plt.plot(grafik, history.history['val_accuracy'], label='Validation')\n",
    "plt.legend()\n",
    "plt.show()"
   ]
  },
  {
   "cell_type": "code",
   "execution_count": null,
   "id": "bb42c629-8840-439f-a407-57ef7d9db9e2",
   "metadata": {},
   "outputs": [],
   "source": []
  }
 ],
 "metadata": {
  "kernelspec": {
   "display_name": "Python 3 (ipykernel)",
   "language": "python",
   "name": "python3"
  },
  "language_info": {
   "codemirror_mode": {
    "name": "ipython",
    "version": 3
   },
   "file_extension": ".py",
   "mimetype": "text/x-python",
   "name": "python",
   "nbconvert_exporter": "python",
   "pygments_lexer": "ipython3",
   "version": "3.10.7"
  }
 },
 "nbformat": 4,
 "nbformat_minor": 5
}
