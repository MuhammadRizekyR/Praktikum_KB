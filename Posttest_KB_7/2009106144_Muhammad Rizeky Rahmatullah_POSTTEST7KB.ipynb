{
 "cells": [
  {
   "cell_type": "markdown",
   "id": "d3ab435a-3585-4d71-aa55-16dca4c42ace",
   "metadata": {},
   "source": [
    "# POSTTEST 7\n",
    "# TENSORFLOW"
   ]
  },
  {
   "cell_type": "markdown",
   "id": "9d2f80c0-f5ba-467e-b914-b7917f11f11c",
   "metadata": {},
   "source": [
    "### Import Library"
   ]
  },
  {
   "cell_type": "code",
   "execution_count": 2,
   "id": "109ba394-6c43-4934-bc66-43908422f558",
   "metadata": {},
   "outputs": [],
   "source": [
    "import tensorflow as tf\n",
    "import numpy as np"
   ]
  },
  {
   "cell_type": "markdown",
   "id": "fc7f6d66-a21d-42a9-9a93-45be4d786a7c",
   "metadata": {},
   "source": [
    "### Buatlah sebuah tensor dengan shape(5,5) dengan nilai random yang disimpan dalam variable random_tensor"
   ]
  },
  {
   "cell_type": "code",
   "execution_count": 3,
   "id": "08bed76f-9fb6-4d53-be46-03225682a421",
   "metadata": {},
   "outputs": [
    {
     "name": "stdout",
     "output_type": "stream",
     "text": [
      "tf.Tensor(\n",
      "[[ 0.29629603 -0.03141323 -0.05471061  0.03763179  2.564978  ]\n",
      " [-0.6494583  -0.6845234   0.43688074  1.4897977  -0.2399326 ]\n",
      " [ 0.04981674  0.41748446  0.11580934  0.8780719   0.27877015]\n",
      " [-1.5849335   1.1436394   1.0639356   1.1304685   1.3247743 ]\n",
      " [ 2.1117373  -0.863544   -1.8417858   0.4749224  -0.9902795 ]], shape=(5, 5), dtype=float32)\n"
     ]
    }
   ],
   "source": [
    "random_tensor = tf.random.normal([5,5], mean=0, stddev=1, seed=4)\n",
    "print(random_tensor)"
   ]
  },
  {
   "cell_type": "markdown",
   "id": "c4a3b073-c72a-4e31-b6e3-c33503f76850",
   "metadata": {},
   "source": [
    "### Buatlah sebuah tensor dengan shape(5,5) dari sebuah list dengan nilai bilangan prima dalam variable prime_tensor"
   ]
  },
  {
   "cell_type": "code",
   "execution_count": 20,
   "id": "ac204d14-ee60-4190-ade9-ff9bc80dc45e",
   "metadata": {},
   "outputs": [
    {
     "name": "stdout",
     "output_type": "stream",
     "text": [
      "tf.Tensor(\n",
      "[[  2.   3.   5.   7.  11.]\n",
      " [ 13.  17.  19.  23.  29.]\n",
      " [ 31.  37.  41.  43.  47.]\n",
      " [ 53.  59.  61.  71.  73.]\n",
      " [ 79.  83.  89.  97. 101.]], shape=(5, 5), dtype=float32)\n"
     ]
    }
   ],
   "source": [
    "prime = [[2, 3, 5, 7, 11],[13, 17, 19, 23, 29],[31, 37, 41, 43, 47],[53, 59, 61, 71, 73],[79, 83, 89, 97, 101]]\n",
    "\n",
    "prime_tensor = tf.constant(prime, dtype=tf.float32)\n",
    "print(prime_tensor)"
   ]
  },
  {
   "cell_type": "markdown",
   "id": "9f99fc8a-bd5e-4d23-8053-6b8faaaebd70",
   "metadata": {},
   "source": [
    "### Tampilkan dimensi dari kedua variable tersebut"
   ]
  },
  {
   "cell_type": "code",
   "execution_count": 22,
   "id": "e175dee1-7532-4dca-8d54-9abcaafa267e",
   "metadata": {},
   "outputs": [
    {
     "name": "stdout",
     "output_type": "stream",
     "text": [
      "(5, 5)\n",
      "<class 'tensorflow.python.framework.ops.EagerTensor'>\n"
     ]
    }
   ],
   "source": [
    "#random tensor\n",
    "print(random_tensor.shape)\n",
    "print(type(random_tensor))"
   ]
  },
  {
   "cell_type": "code",
   "execution_count": 24,
   "id": "f637d29a-7cea-4815-bca5-20da5f2f5297",
   "metadata": {},
   "outputs": [
    {
     "name": "stdout",
     "output_type": "stream",
     "text": [
      "(5, 5)\n",
      "<class 'tensorflow.python.framework.ops.EagerTensor'>\n"
     ]
    }
   ],
   "source": [
    "#prime tensor\n",
    "print(prime_tensor.shape)\n",
    "print(type(prime_tensor))"
   ]
  },
  {
   "cell_type": "markdown",
   "id": "6940fede-3037-40ef-ae38-48b4f8bf14a8",
   "metadata": {},
   "source": [
    "### Tampilkan hasil dari perhitungan aritmetika 2 variable tersebut (Gunakan minimal 5 operator)"
   ]
  },
  {
   "cell_type": "code",
   "execution_count": 25,
   "id": "d072a350-5f8c-4db4-b21b-42af9d24f9b5",
   "metadata": {},
   "outputs": [
    {
     "name": "stdout",
     "output_type": "stream",
     "text": [
      "tf.Tensor(\n",
      "[[  2.2962961   2.9685867   4.9452896   7.037632   13.564978 ]\n",
      " [ 12.350542   16.315477   19.43688    24.489798   28.760067 ]\n",
      " [ 31.049816   37.417484   41.11581    43.87807    47.27877  ]\n",
      " [ 51.415066   60.14364    62.063934   72.13047    74.324776 ]\n",
      " [ 81.11174    82.13646    87.15821    97.47492   100.00972  ]], shape=(5, 5), dtype=float32)\n"
     ]
    }
   ],
   "source": [
    "# penammbahan\n",
    "print(tf.add(random_tensor, prime_tensor))"
   ]
  },
  {
   "cell_type": "code",
   "execution_count": 26,
   "id": "9ef88dd1-af18-4fe7-ac41-38e88b7cbba7",
   "metadata": {},
   "outputs": [
    {
     "name": "stdout",
     "output_type": "stream",
     "text": [
      "tf.Tensor(\n",
      "[[  -1.703704    -3.0314133   -5.0547104   -6.962368    -8.435022 ]\n",
      " [ -13.649458   -17.684523   -18.56312    -21.510202   -29.239933 ]\n",
      " [ -30.950184   -36.582516   -40.88419    -42.12193    -46.72123  ]\n",
      " [ -54.584934   -57.85636    -59.936066   -69.86953    -71.675224 ]\n",
      " [ -76.88826    -83.86354    -90.84179    -96.52508   -101.99028  ]], shape=(5, 5), dtype=float32)\n"
     ]
    }
   ],
   "source": [
    "#pengurangan\n",
    "print(tf.subtract(random_tensor, prime_tensor))"
   ]
  },
  {
   "cell_type": "code",
   "execution_count": 27,
   "id": "af2bd5f2-ecea-4485-9ec0-54ca4a1191aa",
   "metadata": {},
   "outputs": [
    {
     "name": "stdout",
     "output_type": "stream",
     "text": [
      "tf.Tensor(\n",
      "[[ 5.9259206e-01 -9.4239704e-02 -2.7355304e-01  2.6342255e-01\n",
      "   2.8214756e+01]\n",
      " [-8.4429579e+00 -1.1636898e+01  8.3007336e+00  3.4265347e+01\n",
      "  -6.9580455e+00]\n",
      " [ 1.5443188e+00  1.5446925e+01  4.7481828e+00  3.7757092e+01\n",
      "   1.3102197e+01]\n",
      " [-8.4001480e+01  6.7474724e+01  6.4900070e+01  8.0263260e+01\n",
      "   9.6708519e+01]\n",
      " [ 1.6682724e+02 -7.1674149e+01 -1.6391893e+02  4.6067471e+01\n",
      "  -1.0001823e+02]], shape=(5, 5), dtype=float32)\n"
     ]
    }
   ],
   "source": [
    "#perkalian\n",
    "print(tf.multiply(random_tensor, prime_tensor))"
   ]
  },
  {
   "cell_type": "code",
   "execution_count": 28,
   "id": "62546bcb-1775-4d3f-acca-ab10e794c1da",
   "metadata": {},
   "outputs": [
    {
     "name": "stdout",
     "output_type": "stream",
     "text": [
      "tf.Tensor(\n",
      "[[ 0.14814802 -0.01047108 -0.01094212  0.00537597  0.23317981]\n",
      " [-0.04995833 -0.04026608  0.02299372  0.06477381 -0.00827354]\n",
      " [ 0.00160699  0.01128336  0.00282462  0.02042028  0.00593128]\n",
      " [-0.02990441  0.01938372  0.01744157  0.01592209  0.01814759]\n",
      " [ 0.02673085 -0.01040414 -0.02069422  0.00489611 -0.00980475]], shape=(5, 5), dtype=float32)\n"
     ]
    }
   ],
   "source": [
    "#pembagian\n",
    "print(tf.divide(random_tensor, prime_tensor))"
   ]
  },
  {
   "cell_type": "code",
   "execution_count": 29,
   "id": "89d9d8a4-dbee-4f88-bcc0-7bbec576aa06",
   "metadata": {},
   "outputs": [
    {
     "name": "stdout",
     "output_type": "stream",
     "text": [
      "tf.Tensor(\n",
      "[[1.22798765e+00 9.66077745e-01 9.15712059e-01 1.07597589e+00\n",
      "  4.68974487e+02]\n",
      " [1.89034149e-01 1.43790081e-01 3.61961865e+00 1.06831421e+02\n",
      "  4.45782542e-01]\n",
      " [1.18657386e+00 4.51543760e+00 1.53735948e+00 2.71833363e+01\n",
      "  2.92503428e+00]\n",
      " [1.84985367e-03 1.05978119e+02 7.93370514e+01 1.23819550e+02\n",
      "  2.94091309e+02]\n",
      " [1.01692705e+04 2.20186990e-02 2.56827305e-04 8.78137207e+00\n",
      "  1.03552751e-02]], shape=(5, 5), dtype=float32)\n"
     ]
    }
   ],
   "source": [
    "#pangkat\n",
    "print(tf.pow(prime_tensor,random_tensor))"
   ]
  },
  {
   "cell_type": "code",
   "execution_count": 30,
   "id": "1fdc4d37-731a-4d6a-a46c-26877c97c68c",
   "metadata": {},
   "outputs": [
    {
     "name": "stdout",
     "output_type": "stream",
     "text": [
      "tf.Tensor(\n",
      "[[  2.   3.   5.   7.  11.]\n",
      " [ 13.  17.  19.  23.  29.]\n",
      " [ 31.  37.  41.  43.  47.]\n",
      " [ 53.  59.  61.  71.  73.]\n",
      " [ 79.  83.  89.  97. 101.]], shape=(5, 5), dtype=float32)\n"
     ]
    }
   ],
   "source": [
    "#maximum\n",
    "print(tf.math.maximum(prime_tensor,random_tensor))"
   ]
  },
  {
   "cell_type": "code",
   "execution_count": 31,
   "id": "4cbfb211-7019-411d-9fc8-1f14e5147d05",
   "metadata": {},
   "outputs": [
    {
     "name": "stdout",
     "output_type": "stream",
     "text": [
      "tf.Tensor(\n",
      "[[ 0.29629603 -0.03141323 -0.05471061  0.03763179  2.564978  ]\n",
      " [-0.6494583  -0.6845234   0.43688074  1.4897977  -0.2399326 ]\n",
      " [ 0.04981674  0.41748446  0.11580934  0.8780719   0.27877015]\n",
      " [-1.5849335   1.1436394   1.0639356   1.1304685   1.3247743 ]\n",
      " [ 2.1117373  -0.863544   -1.8417858   0.4749224  -0.9902795 ]], shape=(5, 5), dtype=float32)\n"
     ]
    }
   ],
   "source": [
    "#minimum\n",
    "print(tf.math.minimum(prime_tensor,random_tensor))"
   ]
  },
  {
   "cell_type": "markdown",
   "id": "b56e7656-cc61-465b-9d1a-70dfd5174b32",
   "metadata": {},
   "source": [
    "### Tampilkan nilai maksimal dan minimal dari variable random_tensor"
   ]
  },
  {
   "cell_type": "code",
   "execution_count": 32,
   "id": "e99ad361-7055-41c2-8eca-f53b67293da9",
   "metadata": {},
   "outputs": [
    {
     "name": "stdout",
     "output_type": "stream",
     "text": [
      "2.564978\n"
     ]
    }
   ],
   "source": [
    "#max\n",
    "print(tf.reduce_max(random_tensor).numpy())"
   ]
  },
  {
   "cell_type": "code",
   "execution_count": 33,
   "id": "3ae411df-b87d-4fa2-9566-e3e9206e64c3",
   "metadata": {},
   "outputs": [
    {
     "name": "stdout",
     "output_type": "stream",
     "text": [
      "-1.8417858\n"
     ]
    }
   ],
   "source": [
    "#min\n",
    "print(tf.reduce_min(random_tensor).numpy())"
   ]
  },
  {
   "cell_type": "markdown",
   "id": "18fbb3ca-7cf2-4c76-8618-38885c353bd3",
   "metadata": {},
   "source": [
    "### Tampilkan hasil dari penggabungan variable random_tensor dengan prime_tensor (concatenation)"
   ]
  },
  {
   "cell_type": "code",
   "execution_count": 34,
   "id": "ddaf680f-a7fe-40bd-88bb-08c0d63a1879",
   "metadata": {},
   "outputs": [
    {
     "name": "stdout",
     "output_type": "stream",
     "text": [
      "tf.Tensor(\n",
      "[[ 2.9629603e-01 -3.1413235e-02 -5.4710608e-02  3.7631791e-02\n",
      "   2.5649779e+00]\n",
      " [-6.4945829e-01 -6.8452340e-01  4.3688074e-01  1.4897977e+00\n",
      "  -2.3993260e-01]\n",
      " [ 4.9816735e-02  4.1748446e-01  1.1580934e-01  8.7807190e-01\n",
      "   2.7877015e-01]\n",
      " [-1.5849335e+00  1.1436394e+00  1.0639356e+00  1.1304685e+00\n",
      "   1.3247743e+00]\n",
      " [ 2.1117373e+00 -8.6354399e-01 -1.8417858e+00  4.7492239e-01\n",
      "  -9.9027950e-01]\n",
      " [ 2.0000000e+00  3.0000000e+00  5.0000000e+00  7.0000000e+00\n",
      "   1.1000000e+01]\n",
      " [ 1.3000000e+01  1.7000000e+01  1.9000000e+01  2.3000000e+01\n",
      "   2.9000000e+01]\n",
      " [ 3.1000000e+01  3.7000000e+01  4.1000000e+01  4.3000000e+01\n",
      "   4.7000000e+01]\n",
      " [ 5.3000000e+01  5.9000000e+01  6.1000000e+01  7.1000000e+01\n",
      "   7.3000000e+01]\n",
      " [ 7.9000000e+01  8.3000000e+01  8.9000000e+01  9.7000000e+01\n",
      "   1.0100000e+02]], shape=(10, 5), dtype=float32)\n"
     ]
    }
   ],
   "source": [
    "#kolom = 0\n",
    "print(tf.concat([random_tensor, prime_tensor], axis=0))"
   ]
  },
  {
   "cell_type": "code",
   "execution_count": 35,
   "id": "921773e2-b68a-4d7f-b31f-e2c152ec09e1",
   "metadata": {},
   "outputs": [
    {
     "name": "stdout",
     "output_type": "stream",
     "text": [
      "tf.Tensor(\n",
      "[[ 2.9629603e-01 -3.1413235e-02 -5.4710608e-02  3.7631791e-02\n",
      "   2.5649779e+00  2.0000000e+00  3.0000000e+00  5.0000000e+00\n",
      "   7.0000000e+00  1.1000000e+01]\n",
      " [-6.4945829e-01 -6.8452340e-01  4.3688074e-01  1.4897977e+00\n",
      "  -2.3993260e-01  1.3000000e+01  1.7000000e+01  1.9000000e+01\n",
      "   2.3000000e+01  2.9000000e+01]\n",
      " [ 4.9816735e-02  4.1748446e-01  1.1580934e-01  8.7807190e-01\n",
      "   2.7877015e-01  3.1000000e+01  3.7000000e+01  4.1000000e+01\n",
      "   4.3000000e+01  4.7000000e+01]\n",
      " [-1.5849335e+00  1.1436394e+00  1.0639356e+00  1.1304685e+00\n",
      "   1.3247743e+00  5.3000000e+01  5.9000000e+01  6.1000000e+01\n",
      "   7.1000000e+01  7.3000000e+01]\n",
      " [ 2.1117373e+00 -8.6354399e-01 -1.8417858e+00  4.7492239e-01\n",
      "  -9.9027950e-01  7.9000000e+01  8.3000000e+01  8.9000000e+01\n",
      "   9.7000000e+01  1.0100000e+02]], shape=(5, 10), dtype=float32)\n"
     ]
    }
   ],
   "source": [
    "#kolom = 0\n",
    "print(tf.concat([random_tensor, prime_tensor], axis=1))"
   ]
  },
  {
   "cell_type": "markdown",
   "id": "9169b906-7fbb-4ba2-86b7-6036aa4cffbb",
   "metadata": {},
   "source": [
    "### Tampilkan hasil sorting dari kedua variable di atas. (descending)"
   ]
  },
  {
   "cell_type": "code",
   "execution_count": 36,
   "id": "a0d9213e-a9db-4543-bda4-dcab0bc7471a",
   "metadata": {},
   "outputs": [
    {
     "name": "stdout",
     "output_type": "stream",
     "text": [
      "tf.Tensor(\n",
      "[[ 2.564978    0.29629603  0.03763179 -0.03141323 -0.05471061]\n",
      " [ 1.4897977   0.43688074 -0.2399326  -0.6494583  -0.6845234 ]\n",
      " [ 0.8780719   0.41748446  0.27877015  0.11580934  0.04981674]\n",
      " [ 1.3247743   1.1436394   1.1304685   1.0639356  -1.5849335 ]\n",
      " [ 2.1117373   0.4749224  -0.863544   -0.9902795  -1.8417858 ]], shape=(5, 5), dtype=float32)\n"
     ]
    }
   ],
   "source": [
    "print(tf.sort(random_tensor, direction='DESCENDING'))"
   ]
  },
  {
   "cell_type": "code",
   "execution_count": 37,
   "id": "45e6ae56-262a-45e7-ab4b-8d107d52b2e0",
   "metadata": {},
   "outputs": [
    {
     "name": "stdout",
     "output_type": "stream",
     "text": [
      "tf.Tensor(\n",
      "[[ 11.   7.   5.   3.   2.]\n",
      " [ 29.  23.  19.  17.  13.]\n",
      " [ 47.  43.  41.  37.  31.]\n",
      " [ 73.  71.  61.  59.  53.]\n",
      " [101.  97.  89.  83.  79.]], shape=(5, 5), dtype=float32)\n"
     ]
    }
   ],
   "source": [
    "print(tf.sort(prime_tensor, direction='DESCENDING'))"
   ]
  }
 ],
 "metadata": {
  "kernelspec": {
   "display_name": "Python 3 (ipykernel)",
   "language": "python",
   "name": "python3"
  },
  "language_info": {
   "codemirror_mode": {
    "name": "ipython",
    "version": 3
   },
   "file_extension": ".py",
   "mimetype": "text/x-python",
   "name": "python",
   "nbconvert_exporter": "python",
   "pygments_lexer": "ipython3",
   "version": "3.10.7"
  }
 },
 "nbformat": 4,
 "nbformat_minor": 5
}
