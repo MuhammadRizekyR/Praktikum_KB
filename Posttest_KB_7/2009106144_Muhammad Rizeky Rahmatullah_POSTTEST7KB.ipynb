{
 "cells": [
  {
   "cell_type": "markdown",
   "id": "d3ab435a-3585-4d71-aa55-16dca4c42ace",
   "metadata": {},
   "source": [
    "# POSTTEST 7\n",
    "# TENSORFLOW"
   ]
  },
  {
   "cell_type": "markdown",
   "id": "9d2f80c0-f5ba-467e-b914-b7917f11f11c",
   "metadata": {},
   "source": [
    "### Import Library"
   ]
  },
  {
   "cell_type": "code",
   "execution_count": 1,
   "id": "109ba394-6c43-4934-bc66-43908422f558",
   "metadata": {},
   "outputs": [],
   "source": [
    "import tensorflow as tf\n",
    "import numpy as np"
   ]
  },
  {
   "cell_type": "markdown",
   "id": "fc7f6d66-a21d-42a9-9a93-45be4d786a7c",
   "metadata": {},
   "source": [
    "### Buatlah sebuah tensor dengan shape(5,5) dengan nilai random yang disimpan dalam variable random_tensor"
   ]
  },
  {
   "cell_type": "code",
   "execution_count": 50,
   "id": "08bed76f-9fb6-4d53-be46-03225682a421",
   "metadata": {},
   "outputs": [
    {
     "data": {
      "text/plain": [
       "<tf.Tensor: shape=(5, 5), dtype=float32, numpy=\n",
       "array([[-0.8579795 ,  0.6959921 , -0.13605411, -1.2646562 ,  0.8854719 ],\n",
       "       [ 0.47240213,  1.0577366 , -2.139898  ,  0.3358737 , -0.7004127 ],\n",
       "       [-1.2003378 ,  1.545108  ,  0.6954568 ,  0.8174248 ,  0.714363  ],\n",
       "       [-0.21702397,  0.17537922, -1.7506346 ,  0.2752878 ,  0.35554174],\n",
       "       [ 0.32294512,  1.1343619 , -0.34395158,  0.05015294,  0.14216104]],\n",
       "      dtype=float32)>"
      ]
     },
     "execution_count": 50,
     "metadata": {},
     "output_type": "execute_result"
    }
   ],
   "source": [
    "random_tensor = tf.random.normal([5,5], mean=0, stddev=1, seed=4)\n",
    "random_tensor"
   ]
  },
  {
   "cell_type": "markdown",
   "id": "c4a3b073-c72a-4e31-b6e3-c33503f76850",
   "metadata": {},
   "source": [
    "### Buatlah sebuah tensor dengan shape(5,5) dari sebuah list dengan nilai bilangan prima dalam variable prime_tensor"
   ]
  },
  {
   "cell_type": "code",
   "execution_count": 24,
   "id": "ac204d14-ee60-4190-ade9-ff9bc80dc45e",
   "metadata": {},
   "outputs": [
    {
     "data": {
      "text/plain": [
       "<tf.Tensor: shape=(5, 5), dtype=float32, numpy=\n",
       "array([[  2.,   3.,   5.,   7.,  11.],\n",
       "       [ 13.,  17.,  19.,  23.,  29.],\n",
       "       [ 31.,  37.,  41.,  43.,  47.],\n",
       "       [ 53.,  59.,  61.,  71.,  73.],\n",
       "       [ 79.,  83.,  89.,  97., 101.]], dtype=float32)>"
      ]
     },
     "execution_count": 24,
     "metadata": {},
     "output_type": "execute_result"
    }
   ],
   "source": [
    "prime = [[2, 3, 5, 7, 11],[13, 17, 19, 23, 29],[31, 37, 41, 43, 47],[53, 59, 61, 71, 73],[79, 83, 89, 97, 101]]\n",
    "\n",
    "prime_tensor = tf.constant(prime, dtype=tf.float32)\n",
    "prime_tensor"
   ]
  },
  {
   "cell_type": "markdown",
   "id": "9f99fc8a-bd5e-4d23-8053-6b8faaaebd70",
   "metadata": {},
   "source": [
    "### Tampilkan dimensi dari kedua variable tersebut"
   ]
  },
  {
   "cell_type": "code",
   "execution_count": 25,
   "id": "e175dee1-7532-4dca-8d54-9abcaafa267e",
   "metadata": {},
   "outputs": [
    {
     "data": {
      "text/plain": [
       "tensorflow.python.framework.ops.EagerTensor"
      ]
     },
     "execution_count": 25,
     "metadata": {},
     "output_type": "execute_result"
    }
   ],
   "source": [
    "#random tensor\n",
    "random_tensor.shape\n",
    "type(random_tensor)"
   ]
  },
  {
   "cell_type": "code",
   "execution_count": 26,
   "id": "f637d29a-7cea-4815-bca5-20da5f2f5297",
   "metadata": {},
   "outputs": [
    {
     "data": {
      "text/plain": [
       "tensorflow.python.framework.ops.EagerTensor"
      ]
     },
     "execution_count": 26,
     "metadata": {},
     "output_type": "execute_result"
    }
   ],
   "source": [
    "#prime tensor\n",
    "prime_tensor.shape\n",
    "type(prime_tensor)"
   ]
  },
  {
   "cell_type": "markdown",
   "id": "6940fede-3037-40ef-ae38-48b4f8bf14a8",
   "metadata": {},
   "source": [
    "### Tampilkan hasil dari perhitungan aritmetika 2 variable tersebut (Gunakan minimal 5 operator)"
   ]
  },
  {
   "cell_type": "code",
   "execution_count": 27,
   "id": "d072a350-5f8c-4db4-b21b-42af9d24f9b5",
   "metadata": {},
   "outputs": [
    {
     "data": {
      "text/plain": [
       "<tf.Tensor: shape=(5, 5), dtype=float32, numpy=\n",
       "array([[  0.5965071,   2.0966878,   6.0288563,   6.517938 ,  11.903145 ],\n",
       "       [ 13.56279  ,  16.914282 ,  19.615637 ,  25.387405 ,  30.146547 ],\n",
       "       [ 30.639833 ,  38.135563 ,  42.333508 ,  43.328663 ,  46.816776 ],\n",
       "       [ 53.285183 ,  58.270626 ,  60.867348 ,  71.41402  ,  71.98705  ],\n",
       "       [ 79.32825  ,  83.22019  ,  88.60281  ,  95.61219  , 100.501114 ]],\n",
       "      dtype=float32)>"
      ]
     },
     "execution_count": 27,
     "metadata": {},
     "output_type": "execute_result"
    }
   ],
   "source": [
    "# penammbahan\n",
    "tf.add(random_tensor, prime_tensor)"
   ]
  },
  {
   "cell_type": "code",
   "execution_count": 28,
   "id": "9ef88dd1-af18-4fe7-ac41-38e88b7cbba7",
   "metadata": {},
   "outputs": [
    {
     "data": {
      "text/plain": [
       "<tf.Tensor: shape=(5, 5), dtype=float32, numpy=\n",
       "array([[  -3.403493 ,   -3.9033122,   -3.971144 ,   -7.482062 ,\n",
       "         -10.096855 ],\n",
       "       [ -12.43721  ,  -17.085718 ,  -18.384363 ,  -20.612595 ,\n",
       "         -27.853453 ],\n",
       "       [ -31.360167 ,  -35.864437 ,  -39.666492 ,  -42.671337 ,\n",
       "         -47.183224 ],\n",
       "       [ -52.714817 ,  -59.729374 ,  -61.132652 ,  -70.58598  ,\n",
       "         -74.01295  ],\n",
       "       [ -78.67175  ,  -82.77981  ,  -89.39719  ,  -98.38781  ,\n",
       "        -101.498886 ]], dtype=float32)>"
      ]
     },
     "execution_count": 28,
     "metadata": {},
     "output_type": "execute_result"
    }
   ],
   "source": [
    "#pengurangan\n",
    "tf.subtract(random_tensor, prime_tensor)"
   ]
  },
  {
   "cell_type": "code",
   "execution_count": 29,
   "id": "af2bd5f2-ecea-4485-9ec0-54ca4a1191aa",
   "metadata": {},
   "outputs": [
    {
     "data": {
      "text/plain": [
       "<tf.Tensor: shape=(5, 5), dtype=float32, numpy=\n",
       "array([[  -2.8069859,   -2.7099366,    5.1442804,   -3.374434 ,\n",
       "           9.934593 ],\n",
       "       [   7.3162713,   -1.4572   ,   11.69711  ,   54.910336 ,\n",
       "          33.24987  ],\n",
       "       [ -11.165169 ,   42.01582  ,   54.67376  ,   14.132422 ,\n",
       "          -8.611505 ],\n",
       "       [  15.114646 ,  -43.033115 ,   -8.091684 ,   29.395079 ,\n",
       "         -73.944916 ],\n",
       "       [  25.93129  ,   18.276056 ,  -35.3493   , -134.61789  ,\n",
       "         -50.38766  ]], dtype=float32)>"
      ]
     },
     "execution_count": 29,
     "metadata": {},
     "output_type": "execute_result"
    }
   ],
   "source": [
    "#perkalian\n",
    "tf.multiply(random_tensor, prime_tensor)"
   ]
  },
  {
   "cell_type": "code",
   "execution_count": 30,
   "id": "62546bcb-1775-4d3f-acca-ab10e794c1da",
   "metadata": {},
   "outputs": [
    {
     "data": {
      "text/plain": [
       "<tf.Tensor: shape=(5, 5), dtype=float32, numpy=\n",
       "array([[-0.70174646, -0.30110407,  0.20577121, -0.068866  ,  0.08210408],\n",
       "       [ 0.04329155, -0.00504221,  0.03240197,  0.10380025,  0.03953611],\n",
       "       [-0.01161828,  0.03069088,  0.03252454,  0.00764328, -0.00389837],\n",
       "       [ 0.00538079, -0.01236229, -0.0021746 ,  0.0058312 , -0.01387595],\n",
       "       [ 0.00415499,  0.00265293, -0.00446273, -0.01430735, -0.00493948]],\n",
       "      dtype=float32)>"
      ]
     },
     "execution_count": 30,
     "metadata": {},
     "output_type": "execute_result"
    }
   ],
   "source": [
    "#pembagian\n",
    "tf.divide(random_tensor, prime_tensor)"
   ]
  },
  {
   "cell_type": "code",
   "execution_count": 31,
   "id": "89d9d8a4-dbee-4f88-bcc0-7bbec576aa06",
   "metadata": {},
   "outputs": [
    {
     "data": {
      "text/plain": [
       "<tf.Tensor: shape=(5, 5), dtype=float32, numpy=\n",
       "array([[3.7801284e-01, 3.7068972e-01, 5.2376866e+00, 3.9139056e-01,\n",
       "        8.7202396e+00],\n",
       "       [4.2356133e+00, 7.8438413e-01, 6.1270084e+00, 1.7823666e+03,\n",
       "        4.7501629e+01],\n",
       "       [2.9030943e-01, 6.0365849e+01, 1.4146777e+02, 3.4423685e+00,\n",
       "        4.9389243e-01],\n",
       "       [3.1026475e+00, 5.1095791e-02, 5.7966220e-01, 5.8404875e+00,\n",
       "        1.2958600e-02],\n",
       "       [4.1964788e+00, 2.6458697e+00, 1.6816482e-01, 1.7487661e-03,\n",
       "        1.0001582e-01]], dtype=float32)>"
      ]
     },
     "execution_count": 31,
     "metadata": {},
     "output_type": "execute_result"
    }
   ],
   "source": [
    "#pangkat\n",
    "tf.pow(prime_tensor,random_tensor)"
   ]
  },
  {
   "cell_type": "code",
   "execution_count": 32,
   "id": "1fdc4d37-731a-4d6a-a46c-26877c97c68c",
   "metadata": {},
   "outputs": [
    {
     "data": {
      "text/plain": [
       "<tf.Tensor: shape=(5, 5), dtype=float32, numpy=\n",
       "array([[  2.,   3.,   5.,   7.,  11.],\n",
       "       [ 13.,  17.,  19.,  23.,  29.],\n",
       "       [ 31.,  37.,  41.,  43.,  47.],\n",
       "       [ 53.,  59.,  61.,  71.,  73.],\n",
       "       [ 79.,  83.,  89.,  97., 101.]], dtype=float32)>"
      ]
     },
     "execution_count": 32,
     "metadata": {},
     "output_type": "execute_result"
    }
   ],
   "source": [
    "#maximum\n",
    "tf.math.maximum(prime_tensor,random_tensor)"
   ]
  },
  {
   "cell_type": "code",
   "execution_count": 33,
   "id": "4cbfb211-7019-411d-9fc8-1f14e5147d05",
   "metadata": {},
   "outputs": [
    {
     "data": {
      "text/plain": [
       "<tf.Tensor: shape=(5, 5), dtype=float32, numpy=\n",
       "array([[-1.4034929 , -0.9033122 ,  1.028856  , -0.48206198,  0.90314484],\n",
       "       [ 0.5627901 , -0.08571765,  0.61563736,  2.3874059 ,  1.1465473 ],\n",
       "       [-0.36016673,  1.1355627 ,  1.3335063 ,  0.328661  , -0.1832235 ],\n",
       "       [ 0.285182  , -0.7293748 , -0.13265057,  0.4140152 , -1.0129441 ],\n",
       "       [ 0.32824418,  0.22019346, -0.39718315, -1.3878133 , -0.49888772]],\n",
       "      dtype=float32)>"
      ]
     },
     "execution_count": 33,
     "metadata": {},
     "output_type": "execute_result"
    }
   ],
   "source": [
    "#minimum\n",
    "tf.math.minimum(prime_tensor,random_tensor)"
   ]
  },
  {
   "cell_type": "markdown",
   "id": "b56e7656-cc61-465b-9d1a-70dfd5174b32",
   "metadata": {},
   "source": [
    "### Tampilkan nilai maksimal dan minimal dari variable random_tensor"
   ]
  },
  {
   "cell_type": "code",
   "execution_count": 34,
   "id": "e99ad361-7055-41c2-8eca-f53b67293da9",
   "metadata": {},
   "outputs": [
    {
     "data": {
      "text/plain": [
       "2.3874059"
      ]
     },
     "execution_count": 34,
     "metadata": {},
     "output_type": "execute_result"
    }
   ],
   "source": [
    "#max\n",
    "tf.reduce_max(random_tensor).numpy()"
   ]
  },
  {
   "cell_type": "code",
   "execution_count": 35,
   "id": "3ae411df-b87d-4fa2-9566-e3e9206e64c3",
   "metadata": {},
   "outputs": [
    {
     "data": {
      "text/plain": [
       "-1.4034929"
      ]
     },
     "execution_count": 35,
     "metadata": {},
     "output_type": "execute_result"
    }
   ],
   "source": [
    "#min\n",
    "tf.reduce_min(random_tensor).numpy()"
   ]
  },
  {
   "cell_type": "markdown",
   "id": "18fbb3ca-7cf2-4c76-8618-38885c353bd3",
   "metadata": {},
   "source": [
    "### Tampilkan hasil dari penggabungan variable random_tensor dengan prime_tensor (concatenation)"
   ]
  },
  {
   "cell_type": "code",
   "execution_count": 39,
   "id": "ddaf680f-a7fe-40bd-88bb-08c0d63a1879",
   "metadata": {},
   "outputs": [
    {
     "data": {
      "text/plain": [
       "<tf.Tensor: shape=(10, 5), dtype=float32, numpy=\n",
       "array([[-1.4034929e+00, -9.0331221e-01,  1.0288560e+00, -4.8206198e-01,\n",
       "         9.0314484e-01],\n",
       "       [ 5.6279010e-01, -8.5717648e-02,  6.1563736e-01,  2.3874059e+00,\n",
       "         1.1465473e+00],\n",
       "       [-3.6016673e-01,  1.1355627e+00,  1.3335063e+00,  3.2866099e-01,\n",
       "        -1.8322350e-01],\n",
       "       [ 2.8518200e-01, -7.2937483e-01, -1.3265057e-01,  4.1401520e-01,\n",
       "        -1.0129441e+00],\n",
       "       [ 3.2824418e-01,  2.2019346e-01, -3.9718315e-01, -1.3878133e+00,\n",
       "        -4.9888772e-01],\n",
       "       [ 2.0000000e+00,  3.0000000e+00,  5.0000000e+00,  7.0000000e+00,\n",
       "         1.1000000e+01],\n",
       "       [ 1.3000000e+01,  1.7000000e+01,  1.9000000e+01,  2.3000000e+01,\n",
       "         2.9000000e+01],\n",
       "       [ 3.1000000e+01,  3.7000000e+01,  4.1000000e+01,  4.3000000e+01,\n",
       "         4.7000000e+01],\n",
       "       [ 5.3000000e+01,  5.9000000e+01,  6.1000000e+01,  7.1000000e+01,\n",
       "         7.3000000e+01],\n",
       "       [ 7.9000000e+01,  8.3000000e+01,  8.9000000e+01,  9.7000000e+01,\n",
       "         1.0100000e+02]], dtype=float32)>"
      ]
     },
     "execution_count": 39,
     "metadata": {},
     "output_type": "execute_result"
    }
   ],
   "source": [
    "#kolom = 0\n",
    "tf.concat([random_tensor, prime_tensor], axis=0)"
   ]
  },
  {
   "cell_type": "code",
   "execution_count": 47,
   "id": "921773e2-b68a-4d7f-b31f-e2c152ec09e1",
   "metadata": {},
   "outputs": [
    {
     "data": {
      "text/plain": [
       "<tf.Tensor: shape=(5, 10), dtype=float32, numpy=\n",
       "array([[-2.4479930e-01,  1.2106918e+00, -4.0403688e-01, -6.1715867e-02,\n",
       "        -1.3918667e+00,  2.0000000e+00,  3.0000000e+00,  5.0000000e+00,\n",
       "         7.0000000e+00,  1.1000000e+01],\n",
       "       [ 1.0384767e+00,  5.2305520e-01,  1.4361411e+00, -5.7494342e-01,\n",
       "        -3.8720694e-01,  1.3000000e+01,  1.7000000e+01,  1.9000000e+01,\n",
       "         2.3000000e+01,  2.9000000e+01],\n",
       "       [-1.4719977e+00,  7.3088956e-01, -1.4838583e+00,  1.2816611e-01,\n",
       "         1.3089405e+00,  3.1000000e+01,  3.7000000e+01,  4.1000000e+01,\n",
       "         4.3000000e+01,  4.7000000e+01],\n",
       "       [ 1.4885427e+00,  1.5170054e-01,  2.7196124e-01,  5.8594680e-01,\n",
       "        -2.4272859e+00,  5.3000000e+01,  5.9000000e+01,  6.1000000e+01,\n",
       "         7.1000000e+01,  7.3000000e+01],\n",
       "       [-5.1163554e-01,  1.4853485e+00, -9.9505407e-01, -1.1164328e+00,\n",
       "        -1.0387598e-02,  7.9000000e+01,  8.3000000e+01,  8.9000000e+01,\n",
       "         9.7000000e+01,  1.0100000e+02]], dtype=float32)>"
      ]
     },
     "execution_count": 47,
     "metadata": {},
     "output_type": "execute_result"
    }
   ],
   "source": [
    "#kolom = 0\n",
    "tf.concat([random_tensor, prime_tensor], axis=1)"
   ]
  },
  {
   "cell_type": "markdown",
   "id": "9169b906-7fbb-4ba2-86b7-6036aa4cffbb",
   "metadata": {},
   "source": [
    "### Tampilkan hasil sorting dari kedua variable di atas. (descending)"
   ]
  },
  {
   "cell_type": "code",
   "execution_count": 48,
   "id": "a0d9213e-a9db-4543-bda4-dcab0bc7471a",
   "metadata": {},
   "outputs": [
    {
     "data": {
      "text/plain": [
       "<tf.Tensor: shape=(5, 5), dtype=float32, numpy=\n",
       "array([[ 1.2106918 , -0.06171587, -0.2447993 , -0.40403688, -1.3918667 ],\n",
       "       [ 1.4361411 ,  1.0384767 ,  0.5230552 , -0.38720694, -0.5749434 ],\n",
       "       [ 1.3089405 ,  0.73088956,  0.12816611, -1.4719977 , -1.4838583 ],\n",
       "       [ 1.4885427 ,  0.5859468 ,  0.27196124,  0.15170054, -2.427286  ],\n",
       "       [ 1.4853485 , -0.0103876 , -0.51163554, -0.99505407, -1.1164328 ]],\n",
       "      dtype=float32)>"
      ]
     },
     "execution_count": 48,
     "metadata": {},
     "output_type": "execute_result"
    }
   ],
   "source": [
    "tf.sort(random_tensor, direction='DESCENDING')"
   ]
  },
  {
   "cell_type": "code",
   "execution_count": 49,
   "id": "45e6ae56-262a-45e7-ab4b-8d107d52b2e0",
   "metadata": {},
   "outputs": [
    {
     "data": {
      "text/plain": [
       "<tf.Tensor: shape=(5, 5), dtype=float32, numpy=\n",
       "array([[ 11.,   7.,   5.,   3.,   2.],\n",
       "       [ 29.,  23.,  19.,  17.,  13.],\n",
       "       [ 47.,  43.,  41.,  37.,  31.],\n",
       "       [ 73.,  71.,  61.,  59.,  53.],\n",
       "       [101.,  97.,  89.,  83.,  79.]], dtype=float32)>"
      ]
     },
     "execution_count": 49,
     "metadata": {},
     "output_type": "execute_result"
    }
   ],
   "source": [
    "tf.sort(prime_tensor, direction='DESCENDING')"
   ]
  }
 ],
 "metadata": {
  "kernelspec": {
   "display_name": "Python 3 (ipykernel)",
   "language": "python",
   "name": "python3"
  },
  "language_info": {
   "codemirror_mode": {
    "name": "ipython",
    "version": 3
   },
   "file_extension": ".py",
   "mimetype": "text/x-python",
   "name": "python",
   "nbconvert_exporter": "python",
   "pygments_lexer": "ipython3",
   "version": "3.10.7"
  }
 },
 "nbformat": 4,
 "nbformat_minor": 5
}
