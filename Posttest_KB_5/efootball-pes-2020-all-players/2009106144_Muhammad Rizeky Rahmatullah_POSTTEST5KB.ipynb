{
 "cells": [
  {
   "cell_type": "markdown",
   "id": "2eda5ba7-88e4-4dac-ba2a-e8a1df5f7351",
   "metadata": {},
   "source": [
    "# POSTTESTS 5\n",
    "# SUPERVISED LEARNING"
   ]
  },
  {
   "cell_type": "markdown",
   "id": "64e7a06c-7cc3-4b8d-a07c-760158c5efd7",
   "metadata": {},
   "source": [
    "Import Library\n",
    "- pandas\n",
    "- matplotlib\n",
    "- scikit-learn"
   ]
  },
  {
   "cell_type": "code",
   "execution_count": 2,
   "id": "aebffae6-077c-4f18-8cb9-4217a06b88c9",
   "metadata": {},
   "outputs": [],
   "source": [
    "import pandas as pd\n",
    "import seaborn as sns\n",
    "import matplotlib.pyplot as plt\n",
    "\n",
    "from sklearn.preprocessing import MinMaxScaler # Normalisasi\n",
    "from sklearn.model_selection import train_test_split #train test split\n",
    "from sklearn.neighbors import KNeighborsClassifier #knn\n",
    "from sklearn.tree import DecisionTreeClassifier #dt\n",
    "from sklearn.naive_bayes import GaussianNB #gnb\n",
    "from sklearn.svm import SVC #svc\n",
    "from sklearn.metrics import accuracy_score\n",
    "from sklearn import metrics\n",
    "\n",
    "# Data Cleaning\n",
    "# Subtitusi nilai\n",
    "from sklearn.impute import SimpleImputer \n",
    "\n",
    "import warnings\n",
    "warnings.filterwarnings('ignore')"
   ]
  },
  {
   "cell_type": "markdown",
   "id": "f39ba191-854d-440a-9651-d99be45e96a2",
   "metadata": {},
   "source": [
    "### File Csv"
   ]
  },
  {
   "cell_type": "code",
   "execution_count": 3,
   "id": "a2ed36ad-2b20-4000-aedf-1cd2746d24cd",
   "metadata": {},
   "outputs": [
    {
     "data": {
      "text/html": [
       "<div>\n",
       "<style scoped>\n",
       "    .dataframe tbody tr th:only-of-type {\n",
       "        vertical-align: middle;\n",
       "    }\n",
       "\n",
       "    .dataframe tbody tr th {\n",
       "        vertical-align: top;\n",
       "    }\n",
       "\n",
       "    .dataframe thead th {\n",
       "        text-align: right;\n",
       "    }\n",
       "</style>\n",
       "<table border=\"1\" class=\"dataframe\">\n",
       "  <thead>\n",
       "    <tr style=\"text-align: right;\">\n",
       "      <th></th>\n",
       "      <th>name</th>\n",
       "      <th>shirt_number</th>\n",
       "      <th>team_name</th>\n",
       "      <th>league</th>\n",
       "      <th>nationality</th>\n",
       "      <th>region</th>\n",
       "      <th>height</th>\n",
       "      <th>weight</th>\n",
       "      <th>age</th>\n",
       "      <th>foot</th>\n",
       "      <th>...</th>\n",
       "      <th>com_playing_style_incisive_run</th>\n",
       "      <th>com_playing_style_early_cross</th>\n",
       "      <th>com_playing_style_long_ball_expert</th>\n",
       "      <th>com_playing_style_long_ranger</th>\n",
       "      <th>height_over_185</th>\n",
       "      <th>age_u_24</th>\n",
       "      <th>age_25_29</th>\n",
       "      <th>age_30_plus</th>\n",
       "      <th>ball_color</th>\n",
       "      <th>rating_stars</th>\n",
       "    </tr>\n",
       "  </thead>\n",
       "  <tbody>\n",
       "    <tr>\n",
       "      <th>0</th>\n",
       "      <td>NEYMAR</td>\n",
       "      <td>10</td>\n",
       "      <td>PSG</td>\n",
       "      <td>Ligue 1 Conforama</td>\n",
       "      <td>BRAZIL</td>\n",
       "      <td>South America</td>\n",
       "      <td>175</td>\n",
       "      <td>68</td>\n",
       "      <td>27</td>\n",
       "      <td>Right foot</td>\n",
       "      <td>...</td>\n",
       "      <td>1</td>\n",
       "      <td>0</td>\n",
       "      <td>0</td>\n",
       "      <td>0</td>\n",
       "      <td>0</td>\n",
       "      <td>0</td>\n",
       "      <td>1</td>\n",
       "      <td>0</td>\n",
       "      <td>black</td>\n",
       "      <td>5</td>\n",
       "    </tr>\n",
       "    <tr>\n",
       "      <th>1</th>\n",
       "      <td>M. NEUER</td>\n",
       "      <td>1</td>\n",
       "      <td>FC BAYERN MÜNCHEN</td>\n",
       "      <td>Other European Leagues</td>\n",
       "      <td>GERMANY</td>\n",
       "      <td>Europe</td>\n",
       "      <td>193</td>\n",
       "      <td>92</td>\n",
       "      <td>33</td>\n",
       "      <td>Right foot</td>\n",
       "      <td>...</td>\n",
       "      <td>0</td>\n",
       "      <td>0</td>\n",
       "      <td>0</td>\n",
       "      <td>0</td>\n",
       "      <td>1</td>\n",
       "      <td>0</td>\n",
       "      <td>0</td>\n",
       "      <td>1</td>\n",
       "      <td>black</td>\n",
       "      <td>5</td>\n",
       "    </tr>\n",
       "    <tr>\n",
       "      <th>2</th>\n",
       "      <td>EDU CAMPABADAL</td>\n",
       "      <td>22</td>\n",
       "      <td>LUGO RB</td>\n",
       "      <td>Spanish 2nd Division</td>\n",
       "      <td>SPAIN</td>\n",
       "      <td>Europe</td>\n",
       "      <td>178</td>\n",
       "      <td>77</td>\n",
       "      <td>26</td>\n",
       "      <td>Right foot</td>\n",
       "      <td>...</td>\n",
       "      <td>0</td>\n",
       "      <td>0</td>\n",
       "      <td>0</td>\n",
       "      <td>0</td>\n",
       "      <td>0</td>\n",
       "      <td>0</td>\n",
       "      <td>1</td>\n",
       "      <td>0</td>\n",
       "      <td>white</td>\n",
       "      <td>1</td>\n",
       "    </tr>\n",
       "    <tr>\n",
       "      <th>3</th>\n",
       "      <td>FRAN CRUZ</td>\n",
       "      <td>5</td>\n",
       "      <td>EXTREMADURA AR</td>\n",
       "      <td>Spanish 2nd Division</td>\n",
       "      <td>SPAIN</td>\n",
       "      <td>Europe</td>\n",
       "      <td>184</td>\n",
       "      <td>73</td>\n",
       "      <td>28</td>\n",
       "      <td>Right foot</td>\n",
       "      <td>...</td>\n",
       "      <td>0</td>\n",
       "      <td>0</td>\n",
       "      <td>0</td>\n",
       "      <td>0</td>\n",
       "      <td>0</td>\n",
       "      <td>0</td>\n",
       "      <td>1</td>\n",
       "      <td>0</td>\n",
       "      <td>white</td>\n",
       "      <td>1</td>\n",
       "    </tr>\n",
       "    <tr>\n",
       "      <th>4</th>\n",
       "      <td>DANI PINILLOS</td>\n",
       "      <td>23</td>\n",
       "      <td>BARNSLEY R</td>\n",
       "      <td>English 2nd Division</td>\n",
       "      <td>SPAIN</td>\n",
       "      <td>Europe</td>\n",
       "      <td>183</td>\n",
       "      <td>74</td>\n",
       "      <td>27</td>\n",
       "      <td>Left foot</td>\n",
       "      <td>...</td>\n",
       "      <td>0</td>\n",
       "      <td>1</td>\n",
       "      <td>1</td>\n",
       "      <td>0</td>\n",
       "      <td>0</td>\n",
       "      <td>0</td>\n",
       "      <td>1</td>\n",
       "      <td>0</td>\n",
       "      <td>white</td>\n",
       "      <td>1</td>\n",
       "    </tr>\n",
       "  </tbody>\n",
       "</table>\n",
       "<p>5 rows × 124 columns</p>\n",
       "</div>"
      ],
      "text/plain": [
       "             name shirt_number          team_name                  league  \\\n",
       "0          NEYMAR           10                PSG       Ligue 1 Conforama   \n",
       "1        M. NEUER            1  FC BAYERN MÜNCHEN  Other European Leagues   \n",
       "2  EDU CAMPABADAL           22            LUGO RB    Spanish 2nd Division   \n",
       "3       FRAN CRUZ            5     EXTREMADURA AR    Spanish 2nd Division   \n",
       "4   DANI PINILLOS           23         BARNSLEY R    English 2nd Division   \n",
       "\n",
       "  nationality         region  height  weight  age        foot  ...  \\\n",
       "0      BRAZIL  South America     175      68   27  Right foot  ...   \n",
       "1     GERMANY         Europe     193      92   33  Right foot  ...   \n",
       "2       SPAIN         Europe     178      77   26  Right foot  ...   \n",
       "3       SPAIN         Europe     184      73   28  Right foot  ...   \n",
       "4       SPAIN         Europe     183      74   27   Left foot  ...   \n",
       "\n",
       "  com_playing_style_incisive_run com_playing_style_early_cross  \\\n",
       "0                              1                             0   \n",
       "1                              0                             0   \n",
       "2                              0                             0   \n",
       "3                              0                             0   \n",
       "4                              0                             1   \n",
       "\n",
       "   com_playing_style_long_ball_expert  com_playing_style_long_ranger  \\\n",
       "0                                   0                              0   \n",
       "1                                   0                              0   \n",
       "2                                   0                              0   \n",
       "3                                   0                              0   \n",
       "4                                   1                              0   \n",
       "\n",
       "   height_over_185  age_u_24  age_25_29  age_30_plus  ball_color  rating_stars  \n",
       "0                0         0          1            0       black             5  \n",
       "1                1         0          0            1       black             5  \n",
       "2                0         0          1            0       white             1  \n",
       "3                0         0          1            0       white             1  \n",
       "4                0         0          1            0       white             1  \n",
       "\n",
       "[5 rows x 124 columns]"
      ]
     },
     "execution_count": 3,
     "metadata": {},
     "output_type": "execute_result"
    }
   ],
   "source": [
    "dataset_pes = pd.read_csv('deets-updated.csv')\n",
    "dataset_pes.head()"
   ]
  },
  {
   "cell_type": "markdown",
   "id": "2ea2aa21-999e-4f6f-b88e-52aa134ebf58",
   "metadata": {},
   "source": [
    "#### Jumlah Baris dan Kolom pada Dataset"
   ]
  },
  {
   "cell_type": "code",
   "execution_count": 4,
   "id": "62afdd45-7640-4ef1-96d9-34e986fdb1c1",
   "metadata": {},
   "outputs": [
    {
     "data": {
      "text/plain": [
       "(15035, 124)"
      ]
     },
     "execution_count": 4,
     "metadata": {},
     "output_type": "execute_result"
    }
   ],
   "source": [
    "dataset_pes.shape"
   ]
  },
  {
   "cell_type": "markdown",
   "id": "5577df18-0f08-4f79-af38-f67ec4ca8635",
   "metadata": {},
   "source": [
    "#### Value Counts"
   ]
  },
  {
   "cell_type": "code",
   "execution_count": 5,
   "id": "a3072061-4a12-44a8-a444-eb64bee0e2eb",
   "metadata": {},
   "outputs": [
    {
     "data": {
      "text/plain": [
       "1    8489\n",
       "2    3620\n",
       "3    2230\n",
       "4     550\n",
       "5     146\n",
       "Name: rating_stars, dtype: int64"
      ]
     },
     "execution_count": 5,
     "metadata": {},
     "output_type": "execute_result"
    }
   ],
   "source": [
    "dataset_pes['rating_stars'].value_counts()"
   ]
  },
  {
   "cell_type": "markdown",
   "id": "cef325bb-a79c-4482-969c-bce1d372276b",
   "metadata": {},
   "source": [
    "### Describe"
   ]
  },
  {
   "cell_type": "code",
   "execution_count": 6,
   "id": "d40f67cc-f7c2-4364-9ed0-f52b36404761",
   "metadata": {},
   "outputs": [
    {
     "data": {
      "text/html": [
       "<div>\n",
       "<style scoped>\n",
       "    .dataframe tbody tr th:only-of-type {\n",
       "        vertical-align: middle;\n",
       "    }\n",
       "\n",
       "    .dataframe tbody tr th {\n",
       "        vertical-align: top;\n",
       "    }\n",
       "\n",
       "    .dataframe thead th {\n",
       "        text-align: right;\n",
       "    }\n",
       "</style>\n",
       "<table border=\"1\" class=\"dataframe\">\n",
       "  <thead>\n",
       "    <tr style=\"text-align: right;\">\n",
       "      <th></th>\n",
       "      <th>height</th>\n",
       "      <th>weight</th>\n",
       "      <th>age</th>\n",
       "      <th>overall_rating</th>\n",
       "      <th>rating_stars</th>\n",
       "    </tr>\n",
       "  </thead>\n",
       "  <tbody>\n",
       "    <tr>\n",
       "      <th>count</th>\n",
       "      <td>15035.000000</td>\n",
       "      <td>15035.000000</td>\n",
       "      <td>15035.000000</td>\n",
       "      <td>15035.000000</td>\n",
       "      <td>15035.000000</td>\n",
       "    </tr>\n",
       "    <tr>\n",
       "      <th>mean</th>\n",
       "      <td>180.711407</td>\n",
       "      <td>74.534885</td>\n",
       "      <td>25.218557</td>\n",
       "      <td>68.489325</td>\n",
       "      <td>1.685999</td>\n",
       "    </tr>\n",
       "    <tr>\n",
       "      <th>std</th>\n",
       "      <td>6.791057</td>\n",
       "      <td>6.799473</td>\n",
       "      <td>4.881732</td>\n",
       "      <td>6.660734</td>\n",
       "      <td>0.920933</td>\n",
       "    </tr>\n",
       "    <tr>\n",
       "      <th>min</th>\n",
       "      <td>148.000000</td>\n",
       "      <td>45.000000</td>\n",
       "      <td>15.000000</td>\n",
       "      <td>50.000000</td>\n",
       "      <td>1.000000</td>\n",
       "    </tr>\n",
       "    <tr>\n",
       "      <th>25%</th>\n",
       "      <td>175.000000</td>\n",
       "      <td>70.000000</td>\n",
       "      <td>21.000000</td>\n",
       "      <td>64.000000</td>\n",
       "      <td>1.000000</td>\n",
       "    </tr>\n",
       "    <tr>\n",
       "      <th>50%</th>\n",
       "      <td>180.000000</td>\n",
       "      <td>74.000000</td>\n",
       "      <td>25.000000</td>\n",
       "      <td>68.000000</td>\n",
       "      <td>1.000000</td>\n",
       "    </tr>\n",
       "    <tr>\n",
       "      <th>75%</th>\n",
       "      <td>185.000000</td>\n",
       "      <td>79.000000</td>\n",
       "      <td>29.000000</td>\n",
       "      <td>73.000000</td>\n",
       "      <td>2.000000</td>\n",
       "    </tr>\n",
       "    <tr>\n",
       "      <th>max</th>\n",
       "      <td>207.000000</td>\n",
       "      <td>113.000000</td>\n",
       "      <td>43.000000</td>\n",
       "      <td>94.000000</td>\n",
       "      <td>5.000000</td>\n",
       "    </tr>\n",
       "  </tbody>\n",
       "</table>\n",
       "</div>"
      ],
      "text/plain": [
       "             height        weight           age  overall_rating  rating_stars\n",
       "count  15035.000000  15035.000000  15035.000000    15035.000000  15035.000000\n",
       "mean     180.711407     74.534885     25.218557       68.489325      1.685999\n",
       "std        6.791057      6.799473      4.881732        6.660734      0.920933\n",
       "min      148.000000     45.000000     15.000000       50.000000      1.000000\n",
       "25%      175.000000     70.000000     21.000000       64.000000      1.000000\n",
       "50%      180.000000     74.000000     25.000000       68.000000      1.000000\n",
       "75%      185.000000     79.000000     29.000000       73.000000      2.000000\n",
       "max      207.000000    113.000000     43.000000       94.000000      5.000000"
      ]
     },
     "execution_count": 6,
     "metadata": {},
     "output_type": "execute_result"
    }
   ],
   "source": [
    "dataset_pes[['height','weight','age','overall_rating','rating_stars']].describe()"
   ]
  },
  {
   "cell_type": "markdown",
   "id": "612f794d-2be8-4660-821d-5055f135bc53",
   "metadata": {},
   "source": [
    "### Info"
   ]
  },
  {
   "cell_type": "code",
   "execution_count": 7,
   "id": "3cf68f9a-de1e-4136-87db-bfd9fb29773b",
   "metadata": {},
   "outputs": [
    {
     "name": "stdout",
     "output_type": "stream",
     "text": [
      "<class 'pandas.core.frame.DataFrame'>\n",
      "RangeIndex: 15035 entries, 0 to 15034\n",
      "Columns: 124 entries, name to rating_stars\n",
      "dtypes: float64(4), int64(109), object(11)\n",
      "memory usage: 14.2+ MB\n"
     ]
    }
   ],
   "source": [
    "dataset_pes.info()"
   ]
  },
  {
   "cell_type": "markdown",
   "id": "94dc1d47-37d4-4921-9e27-f0aa2f809629",
   "metadata": {},
   "source": [
    "### Korelasi"
   ]
  },
  {
   "cell_type": "code",
   "execution_count": 8,
   "id": "3f33ecd4-6320-4824-ad4c-1d77e5484d7c",
   "metadata": {},
   "outputs": [
    {
     "data": {
      "text/html": [
       "<div>\n",
       "<style scoped>\n",
       "    .dataframe tbody tr th:only-of-type {\n",
       "        vertical-align: middle;\n",
       "    }\n",
       "\n",
       "    .dataframe tbody tr th {\n",
       "        vertical-align: top;\n",
       "    }\n",
       "\n",
       "    .dataframe thead th {\n",
       "        text-align: right;\n",
       "    }\n",
       "</style>\n",
       "<table border=\"1\" class=\"dataframe\">\n",
       "  <thead>\n",
       "    <tr style=\"text-align: right;\">\n",
       "      <th></th>\n",
       "      <th>height</th>\n",
       "      <th>weight</th>\n",
       "      <th>age</th>\n",
       "      <th>overall_rating</th>\n",
       "      <th>rating_stars</th>\n",
       "    </tr>\n",
       "  </thead>\n",
       "  <tbody>\n",
       "    <tr>\n",
       "      <th>height</th>\n",
       "      <td>1.000000</td>\n",
       "      <td>0.749955</td>\n",
       "      <td>0.123684</td>\n",
       "      <td>0.120346</td>\n",
       "      <td>0.089823</td>\n",
       "    </tr>\n",
       "    <tr>\n",
       "      <th>weight</th>\n",
       "      <td>0.749955</td>\n",
       "      <td>1.000000</td>\n",
       "      <td>0.215248</td>\n",
       "      <td>0.168243</td>\n",
       "      <td>0.141577</td>\n",
       "    </tr>\n",
       "    <tr>\n",
       "      <th>age</th>\n",
       "      <td>0.123684</td>\n",
       "      <td>0.215248</td>\n",
       "      <td>1.000000</td>\n",
       "      <td>0.473728</td>\n",
       "      <td>0.353368</td>\n",
       "    </tr>\n",
       "    <tr>\n",
       "      <th>overall_rating</th>\n",
       "      <td>0.120346</td>\n",
       "      <td>0.168243</td>\n",
       "      <td>0.473728</td>\n",
       "      <td>1.000000</td>\n",
       "      <td>0.875051</td>\n",
       "    </tr>\n",
       "    <tr>\n",
       "      <th>rating_stars</th>\n",
       "      <td>0.089823</td>\n",
       "      <td>0.141577</td>\n",
       "      <td>0.353368</td>\n",
       "      <td>0.875051</td>\n",
       "      <td>1.000000</td>\n",
       "    </tr>\n",
       "  </tbody>\n",
       "</table>\n",
       "</div>"
      ],
      "text/plain": [
       "                  height    weight       age  overall_rating  rating_stars\n",
       "height          1.000000  0.749955  0.123684        0.120346      0.089823\n",
       "weight          0.749955  1.000000  0.215248        0.168243      0.141577\n",
       "age             0.123684  0.215248  1.000000        0.473728      0.353368\n",
       "overall_rating  0.120346  0.168243  0.473728        1.000000      0.875051\n",
       "rating_stars    0.089823  0.141577  0.353368        0.875051      1.000000"
      ]
     },
     "execution_count": 8,
     "metadata": {},
     "output_type": "execute_result"
    }
   ],
   "source": [
    "dataset_pes[['height','weight','age','overall_rating','rating_stars']].corr()"
   ]
  },
  {
   "cell_type": "markdown",
   "id": "541bcc74-938f-4da2-9c7f-12c576126c87",
   "metadata": {},
   "source": [
    "### Null"
   ]
  },
  {
   "cell_type": "code",
   "execution_count": 9,
   "id": "19922f6c-7d66-4928-bcbc-8809b1804794",
   "metadata": {},
   "outputs": [
    {
     "name": "stdout",
     "output_type": "stream",
     "text": [
      "name =  0\n",
      "shirt_number =  0\n",
      "team_name =  0\n",
      "league =  0\n",
      "nationality =  0\n",
      "region =  0\n",
      "height =  0\n",
      "weight =  0\n",
      "age =  0\n",
      "foot =  0\n",
      "condition =  0\n",
      "registered_position =  0\n",
      "LWF =  1767\n",
      "SS =  1767\n",
      "CF =  1767\n",
      "RWF =  1767\n",
      "LMF =  0\n",
      "DMF =  0\n",
      "CMF =  0\n",
      "AMF =  0\n",
      "RMF =  0\n",
      "LB =  0\n",
      "CB =  0\n",
      "RB =  0\n",
      "offensive_awareness =  0\n",
      "ball_control =  0\n",
      "dribbling =  0\n",
      "tight_possession =  0\n",
      "low_pass =  0\n",
      "lofted_pass =  0\n",
      "finishing =  0\n",
      "heading =  0\n",
      "place_kicking =  0\n",
      "curl =  0\n",
      "speed =  0\n",
      "acceleration =  0\n",
      "kicking_power =  0\n",
      "jump =  0\n",
      "physical_contact =  0\n",
      "balance =  0\n",
      "stamina =  0\n",
      "defensive_awareness =  0\n",
      "ball_winning =  0\n",
      "aggression =  0\n",
      "gk_awareness =  0\n",
      "gk_catching =  0\n",
      "gk_clearing =  0\n",
      "gk_reflexes =  0\n",
      "gk_reach =  0\n",
      "weak_foot_usage =  0\n",
      "weak_foot_accuracy =  0\n",
      "form =  0\n",
      "injury_resistance =  0\n",
      "overall_rating =  0\n",
      "rating_as_GK =  0\n",
      "rating_as_CB =  0\n",
      "rating_as_LB =  0\n",
      "rating_as_RB =  0\n",
      "rating_as_DMF =  0\n",
      "rating_as_CMF =  0\n",
      "rating_as_LMF =  0\n",
      "rating_as_RMF =  0\n",
      "rating_as_AMF =  0\n",
      "rating_as_LWF =  0\n",
      "rating_as_RWF =  0\n",
      "rating_as_SS =  0\n",
      "rating_as_CF =  0\n",
      "playing_style =  0\n",
      "skill_cross_over_turn =  0\n",
      "skill_early_cross =  0\n",
      "skill_first_time_shot =  0\n",
      "skill_incisive_run =  0\n",
      "skill_one_touch_pass =  0\n",
      "skill_chip_shot_control =  0\n",
      "skill_heel_trick =  0\n",
      "skill_man_marking =  0\n",
      "skill_interception =  0\n",
      "skill_gk_penalty_saver =  0\n",
      "skill_penalty_specialist =  0\n",
      "skill_step_on_skill_control =  0\n",
      "skill_rising_shots =  0\n",
      "skill_marseille_turn =  0\n",
      "skill_gk_high_punt =  0\n",
      "skill_heading =  0\n",
      "skill_dipping_shot =  0\n",
      "skill_outside_curler =  0\n",
      "skill_captaincy =  0\n",
      "skill_gamesmanship =  0\n",
      "skill_gk_low_punt =  0\n",
      "skill_low_lofted_pass =  0\n",
      "skill_through_passing =  0\n",
      "skill_fighting_spirit =  0\n",
      "skill_flip_flap =  0\n",
      "skill_weighted_pass =  0\n",
      "skill_pinpoint_crossing =  0\n",
      "skill_sombrero =  0\n",
      "skill_acrobatic_clear =  0\n",
      "skill_cut_behind_turn =  0\n",
      "skill_long_range_drive =  0\n",
      "skill_scotch_move =  0\n",
      "skill_acrobatic_finishing =  0\n",
      "skill_double_touch =  0\n",
      "skill_gk_long_throw =  0\n",
      "skill_long_throw =  0\n",
      "skill_scissors_feint =  0\n",
      "skill_long_range_shooting =  0\n",
      "skill_track_back =  0\n",
      "skill_rabona =  0\n",
      "skill_knuckle_shot =  0\n",
      "skill_no_look_pass =  0\n",
      "skill_super_sub =  0\n",
      "com_playing_style_trickster =  0\n",
      "com_playing_style_mazing_run =  0\n",
      "com_playing_style_speeding_bullet =  0\n",
      "com_playing_style_incisive_run =  0\n",
      "com_playing_style_early_cross =  0\n",
      "com_playing_style_long_ball_expert =  0\n",
      "com_playing_style_long_ranger =  0\n",
      "height_over_185 =  0\n",
      "age_u_24 =  0\n",
      "age_25_29 =  0\n",
      "age_30_plus =  0\n",
      "ball_color =  0\n",
      "rating_stars =  0\n"
     ]
    }
   ],
   "source": [
    "# mengecek nilai null\n",
    "nulls = dataset_pes.isnull().sum().to_frame()\n",
    "for index, row in nulls.iterrows():\n",
    "    print(index +\" = \", row[0])"
   ]
  },
  {
   "cell_type": "code",
   "execution_count": 10,
   "id": "2ca7ba11-3eeb-4543-8f91-abc4d6f012b9",
   "metadata": {},
   "outputs": [],
   "source": [
    "# bikin alat\n",
    "imputer_mean = SimpleImputer(strategy = 'mean')\n",
    "\n",
    "#mean\n",
    "dataset_pes['LWF'] = imputer_mean.fit_transform(dataset_pes[['LWF']])\n",
    "dataset_pes['SS'] = imputer_mean.fit_transform(dataset_pes[['SS']])\n",
    "dataset_pes['CF'] = imputer_mean.fit_transform(dataset_pes[['CF']])\n",
    "dataset_pes['RWF'] = imputer_mean.fit_transform(dataset_pes[['RWF']])"
   ]
  },
  {
   "cell_type": "code",
   "execution_count": 12,
   "id": "8889c6cc-dff7-4339-b1a2-2f5deb13d980",
   "metadata": {},
   "outputs": [
    {
     "name": "stdout",
     "output_type": "stream",
     "text": [
      "name =  0\n",
      "shirt_number =  0\n",
      "team_name =  0\n",
      "league =  0\n",
      "nationality =  0\n",
      "region =  0\n",
      "height =  0\n",
      "weight =  0\n",
      "age =  0\n",
      "foot =  0\n",
      "condition =  0\n",
      "registered_position =  0\n",
      "LWF =  0\n",
      "SS =  0\n",
      "CF =  0\n",
      "RWF =  0\n",
      "LMF =  0\n",
      "DMF =  0\n",
      "CMF =  0\n",
      "AMF =  0\n",
      "RMF =  0\n",
      "LB =  0\n",
      "CB =  0\n",
      "RB =  0\n",
      "offensive_awareness =  0\n",
      "ball_control =  0\n",
      "dribbling =  0\n",
      "tight_possession =  0\n",
      "low_pass =  0\n",
      "lofted_pass =  0\n",
      "finishing =  0\n",
      "heading =  0\n",
      "place_kicking =  0\n",
      "curl =  0\n",
      "speed =  0\n",
      "acceleration =  0\n",
      "kicking_power =  0\n",
      "jump =  0\n",
      "physical_contact =  0\n",
      "balance =  0\n",
      "stamina =  0\n",
      "defensive_awareness =  0\n",
      "ball_winning =  0\n",
      "aggression =  0\n",
      "gk_awareness =  0\n",
      "gk_catching =  0\n",
      "gk_clearing =  0\n",
      "gk_reflexes =  0\n",
      "gk_reach =  0\n",
      "weak_foot_usage =  0\n",
      "weak_foot_accuracy =  0\n",
      "form =  0\n",
      "injury_resistance =  0\n",
      "overall_rating =  0\n",
      "rating_as_GK =  0\n",
      "rating_as_CB =  0\n",
      "rating_as_LB =  0\n",
      "rating_as_RB =  0\n",
      "rating_as_DMF =  0\n",
      "rating_as_CMF =  0\n",
      "rating_as_LMF =  0\n",
      "rating_as_RMF =  0\n",
      "rating_as_AMF =  0\n",
      "rating_as_LWF =  0\n",
      "rating_as_RWF =  0\n",
      "rating_as_SS =  0\n",
      "rating_as_CF =  0\n",
      "playing_style =  0\n",
      "skill_cross_over_turn =  0\n",
      "skill_early_cross =  0\n",
      "skill_first_time_shot =  0\n",
      "skill_incisive_run =  0\n",
      "skill_one_touch_pass =  0\n",
      "skill_chip_shot_control =  0\n",
      "skill_heel_trick =  0\n",
      "skill_man_marking =  0\n",
      "skill_interception =  0\n",
      "skill_gk_penalty_saver =  0\n",
      "skill_penalty_specialist =  0\n",
      "skill_step_on_skill_control =  0\n",
      "skill_rising_shots =  0\n",
      "skill_marseille_turn =  0\n",
      "skill_gk_high_punt =  0\n",
      "skill_heading =  0\n",
      "skill_dipping_shot =  0\n",
      "skill_outside_curler =  0\n",
      "skill_captaincy =  0\n",
      "skill_gamesmanship =  0\n",
      "skill_gk_low_punt =  0\n",
      "skill_low_lofted_pass =  0\n",
      "skill_through_passing =  0\n",
      "skill_fighting_spirit =  0\n",
      "skill_flip_flap =  0\n",
      "skill_weighted_pass =  0\n",
      "skill_pinpoint_crossing =  0\n",
      "skill_sombrero =  0\n",
      "skill_acrobatic_clear =  0\n",
      "skill_cut_behind_turn =  0\n",
      "skill_long_range_drive =  0\n",
      "skill_scotch_move =  0\n",
      "skill_acrobatic_finishing =  0\n",
      "skill_double_touch =  0\n",
      "skill_gk_long_throw =  0\n",
      "skill_long_throw =  0\n",
      "skill_scissors_feint =  0\n",
      "skill_long_range_shooting =  0\n",
      "skill_track_back =  0\n",
      "skill_rabona =  0\n",
      "skill_knuckle_shot =  0\n",
      "skill_no_look_pass =  0\n",
      "skill_super_sub =  0\n",
      "com_playing_style_trickster =  0\n",
      "com_playing_style_mazing_run =  0\n",
      "com_playing_style_speeding_bullet =  0\n",
      "com_playing_style_incisive_run =  0\n",
      "com_playing_style_early_cross =  0\n",
      "com_playing_style_long_ball_expert =  0\n",
      "com_playing_style_long_ranger =  0\n",
      "height_over_185 =  0\n",
      "age_u_24 =  0\n",
      "age_25_29 =  0\n",
      "age_30_plus =  0\n",
      "ball_color =  0\n",
      "rating_stars =  0\n"
     ]
    }
   ],
   "source": [
    "# mengecek nilai null\n",
    "nulls = dataset_pes.isnull().sum().to_frame()\n",
    "for index, row in nulls.iterrows():\n",
    "    print(index +\" = \", row[0])"
   ]
  },
  {
   "cell_type": "markdown",
   "id": "86e186b5-604d-45a8-ba32-e13cc5b3cc47",
   "metadata": {},
   "source": [
    "### Duplicated"
   ]
  },
  {
   "cell_type": "code",
   "execution_count": 14,
   "id": "8ecf2d1d-08f1-40df-b9f0-666f2d8c82b0",
   "metadata": {},
   "outputs": [
    {
     "data": {
      "text/plain": [
       "4"
      ]
     },
     "execution_count": 14,
     "metadata": {},
     "output_type": "execute_result"
    }
   ],
   "source": [
    "dataset_pes.duplicated().sum()"
   ]
  },
  {
   "cell_type": "code",
   "execution_count": 15,
   "id": "1c655d6c-05ee-4859-9f5e-71509a3352c3",
   "metadata": {},
   "outputs": [
    {
     "data": {
      "text/html": [
       "<div>\n",
       "<style scoped>\n",
       "    .dataframe tbody tr th:only-of-type {\n",
       "        vertical-align: middle;\n",
       "    }\n",
       "\n",
       "    .dataframe tbody tr th {\n",
       "        vertical-align: top;\n",
       "    }\n",
       "\n",
       "    .dataframe thead th {\n",
       "        text-align: right;\n",
       "    }\n",
       "</style>\n",
       "<table border=\"1\" class=\"dataframe\">\n",
       "  <thead>\n",
       "    <tr style=\"text-align: right;\">\n",
       "      <th></th>\n",
       "      <th>name</th>\n",
       "      <th>shirt_number</th>\n",
       "      <th>team_name</th>\n",
       "      <th>league</th>\n",
       "      <th>nationality</th>\n",
       "      <th>region</th>\n",
       "      <th>height</th>\n",
       "      <th>weight</th>\n",
       "      <th>age</th>\n",
       "      <th>foot</th>\n",
       "      <th>...</th>\n",
       "      <th>com_playing_style_incisive_run</th>\n",
       "      <th>com_playing_style_early_cross</th>\n",
       "      <th>com_playing_style_long_ball_expert</th>\n",
       "      <th>com_playing_style_long_ranger</th>\n",
       "      <th>height_over_185</th>\n",
       "      <th>age_u_24</th>\n",
       "      <th>age_25_29</th>\n",
       "      <th>age_30_plus</th>\n",
       "      <th>ball_color</th>\n",
       "      <th>rating_stars</th>\n",
       "    </tr>\n",
       "  </thead>\n",
       "  <tbody>\n",
       "    <tr>\n",
       "      <th>620</th>\n",
       "      <td>S. MOREO</td>\n",
       "      <td>9</td>\n",
       "      <td>EMPOLI</td>\n",
       "      <td>Italian 2nd Division</td>\n",
       "      <td>ITALY</td>\n",
       "      <td>Europe</td>\n",
       "      <td>190</td>\n",
       "      <td>75</td>\n",
       "      <td>26</td>\n",
       "      <td>Right foot</td>\n",
       "      <td>...</td>\n",
       "      <td>0</td>\n",
       "      <td>0</td>\n",
       "      <td>0</td>\n",
       "      <td>0</td>\n",
       "      <td>1</td>\n",
       "      <td>0</td>\n",
       "      <td>1</td>\n",
       "      <td>0</td>\n",
       "      <td>bronze</td>\n",
       "      <td>2</td>\n",
       "    </tr>\n",
       "    <tr>\n",
       "      <th>621</th>\n",
       "      <td>WEI SHIHAO</td>\n",
       "      <td>7</td>\n",
       "      <td>GUANGZHOU EVERGRANDE</td>\n",
       "      <td>CFA Super League</td>\n",
       "      <td>CHINA</td>\n",
       "      <td>Asia-Oceania</td>\n",
       "      <td>178</td>\n",
       "      <td>65</td>\n",
       "      <td>24</td>\n",
       "      <td>Right foot</td>\n",
       "      <td>...</td>\n",
       "      <td>0</td>\n",
       "      <td>0</td>\n",
       "      <td>0</td>\n",
       "      <td>0</td>\n",
       "      <td>0</td>\n",
       "      <td>1</td>\n",
       "      <td>0</td>\n",
       "      <td>0</td>\n",
       "      <td>white</td>\n",
       "      <td>1</td>\n",
       "    </tr>\n",
       "    <tr>\n",
       "      <th>11557</th>\n",
       "      <td>M. NEUER</td>\n",
       "      <td>1</td>\n",
       "      <td>FC BAYERN MÜNCHEN</td>\n",
       "      <td>Other European Leagues</td>\n",
       "      <td>GERMANY</td>\n",
       "      <td>Europe</td>\n",
       "      <td>193</td>\n",
       "      <td>92</td>\n",
       "      <td>33</td>\n",
       "      <td>Right foot</td>\n",
       "      <td>...</td>\n",
       "      <td>0</td>\n",
       "      <td>0</td>\n",
       "      <td>0</td>\n",
       "      <td>0</td>\n",
       "      <td>1</td>\n",
       "      <td>0</td>\n",
       "      <td>0</td>\n",
       "      <td>1</td>\n",
       "      <td>black</td>\n",
       "      <td>5</td>\n",
       "    </tr>\n",
       "    <tr>\n",
       "      <th>12266</th>\n",
       "      <td>NEYMAR</td>\n",
       "      <td>10</td>\n",
       "      <td>PSG</td>\n",
       "      <td>Ligue 1 Conforama</td>\n",
       "      <td>BRAZIL</td>\n",
       "      <td>South America</td>\n",
       "      <td>175</td>\n",
       "      <td>68</td>\n",
       "      <td>27</td>\n",
       "      <td>Right foot</td>\n",
       "      <td>...</td>\n",
       "      <td>1</td>\n",
       "      <td>0</td>\n",
       "      <td>0</td>\n",
       "      <td>0</td>\n",
       "      <td>0</td>\n",
       "      <td>0</td>\n",
       "      <td>1</td>\n",
       "      <td>0</td>\n",
       "      <td>black</td>\n",
       "      <td>5</td>\n",
       "    </tr>\n",
       "  </tbody>\n",
       "</table>\n",
       "<p>4 rows × 124 columns</p>\n",
       "</div>"
      ],
      "text/plain": [
       "             name shirt_number             team_name                  league  \\\n",
       "620      S. MOREO            9                EMPOLI    Italian 2nd Division   \n",
       "621    WEI SHIHAO            7  GUANGZHOU EVERGRANDE        CFA Super League   \n",
       "11557    M. NEUER            1     FC BAYERN MÜNCHEN  Other European Leagues   \n",
       "12266      NEYMAR           10                   PSG       Ligue 1 Conforama   \n",
       "\n",
       "      nationality         region  height  weight  age        foot  ...  \\\n",
       "620         ITALY         Europe     190      75   26  Right foot  ...   \n",
       "621         CHINA   Asia-Oceania     178      65   24  Right foot  ...   \n",
       "11557     GERMANY         Europe     193      92   33  Right foot  ...   \n",
       "12266      BRAZIL  South America     175      68   27  Right foot  ...   \n",
       "\n",
       "      com_playing_style_incisive_run com_playing_style_early_cross  \\\n",
       "620                                0                             0   \n",
       "621                                0                             0   \n",
       "11557                              0                             0   \n",
       "12266                              1                             0   \n",
       "\n",
       "       com_playing_style_long_ball_expert  com_playing_style_long_ranger  \\\n",
       "620                                     0                              0   \n",
       "621                                     0                              0   \n",
       "11557                                   0                              0   \n",
       "12266                                   0                              0   \n",
       "\n",
       "       height_over_185  age_u_24  age_25_29  age_30_plus  ball_color  \\\n",
       "620                  1         0          1            0      bronze   \n",
       "621                  0         1          0            0       white   \n",
       "11557                1         0          0            1       black   \n",
       "12266                0         0          1            0       black   \n",
       "\n",
       "       rating_stars  \n",
       "620               2  \n",
       "621               1  \n",
       "11557             5  \n",
       "12266             5  \n",
       "\n",
       "[4 rows x 124 columns]"
      ]
     },
     "execution_count": 15,
     "metadata": {},
     "output_type": "execute_result"
    }
   ],
   "source": [
    "dataset_pes[dataset_pes.duplicated()]"
   ]
  },
  {
   "cell_type": "code",
   "execution_count": 16,
   "id": "3a06f78b-9228-4343-b6dd-5c7a0de59403",
   "metadata": {},
   "outputs": [
    {
     "data": {
      "text/plain": [
       "0"
      ]
     },
     "execution_count": 16,
     "metadata": {},
     "output_type": "execute_result"
    }
   ],
   "source": [
    "dataset_pes.drop_duplicates(inplace=True)\n",
    "\n",
    "dataset_pes.duplicated().sum()"
   ]
  },
  {
   "cell_type": "markdown",
   "id": "992f7b22-f8ff-4895-93ab-b55698dffe4d",
   "metadata": {},
   "source": [
    "### Pie Chart untuk Melihat Persentase"
   ]
  },
  {
   "cell_type": "code",
   "execution_count": 18,
   "id": "8b4d15f6-b708-4ba2-bba3-a4e5e9b4c80a",
   "metadata": {},
   "outputs": [
    {
     "data": {
      "image/png": "[encoded data removed]",
      "text/plain": [
       "<Figure size 400x600 with 1 Axes>"
      ]
     },
     "metadata": {},
     "output_type": "display_data"
    }
   ],
   "source": [
    "plt.figure(figsize=(4,6))\n",
    "plt.pie(dataset_pes['rating_stars'].value_counts(),labels=['1', '2','3','4','5'], startangle=90, autopct='%.1f%%',explode=(0.1,0,0.1,0.1,0.1))\n",
    "plt.legend(loc='lower left')\n",
    "plt.show()"
   ]
  },
  {
   "cell_type": "markdown",
   "id": "2dcf5134-4c06-4bcf-8716-b26263d390d7",
   "metadata": {},
   "source": [
    "### Grafik Batang"
   ]
  },
  {
   "cell_type": "code",
   "execution_count": 19,
   "id": "949ce7ec-0b41-4d90-880a-9acd856b75e6",
   "metadata": {},
   "outputs": [
    {
     "data": {
      "image/png": "[encoded data removed]",
      "text/plain": [
       "<Figure size 400x600 with 1 Axes>"
      ]
     },
     "metadata": {},
     "output_type": "display_data"
    }
   ],
   "source": [
    "plt.figure(figsize = (4,6))\n",
    "dataset_pes['rating_stars'].value_counts().plot.bar(color ='red')\n",
    "plt.title('Grafik Batang',fontsize = 25 , fontweight = 'bold')\n",
    "plt.xlabel('Rating Stars')\n",
    "plt.ylabel('Sum Rating Stars')\n",
    "plt.show()"
   ]
  },
  {
   "cell_type": "markdown",
   "id": "1830cdbe-b77c-4bbf-ab13-ef86a5736d31",
   "metadata": {},
   "source": [
    "### Heatmap"
   ]
  },
  {
   "cell_type": "code",
   "execution_count": 21,
   "id": "97228a86-4500-4388-a259-58b83eafbcb4",
   "metadata": {},
   "outputs": [
    {
     "data": {
      "image/png": "[encoded data removed]",
      "text/plain": [
       "<Figure size 1000x600 with 2 Axes>"
      ]
     },
     "metadata": {},
     "output_type": "display_data"
    }
   ],
   "source": [
    "fig, ax = plt.subplots(figsize=(10,6))\n",
    "sns.heatmap(dataset_pes[['height','weight','age','overall_rating','rating_stars']].corr(), center=0, cmap='plasma')\n",
    "ax.set_title('Korelasi antar Attribute Dataset', fontweight = 'bold')\n",
    "plt.show()"
   ]
  },
  {
   "cell_type": "markdown",
   "id": "155a89a3-ecf2-49a3-b904-6897191f570a",
   "metadata": {},
   "source": [
    "### DATA TRANSFORM"
   ]
  },
  {
   "cell_type": "code",
   "execution_count": 22,
   "id": "c9d4a7d5-f0e4-4b64-a041-51dfa72acd6d",
   "metadata": {},
   "outputs": [],
   "source": [
    "#Normalisasi\n",
    "normalized_dataset_pes = dataset_pes.copy()"
   ]
  },
  {
   "cell_type": "code",
   "execution_count": 23,
   "id": "83d53078-e693-48f4-b22a-10917a69dec2",
   "metadata": {},
   "outputs": [],
   "source": [
    "minMaxScaler = MinMaxScaler()"
   ]
  },
  {
   "cell_type": "code",
   "execution_count": 24,
   "id": "24492d2b-df5d-4811-a80c-03e8821f3c47",
   "metadata": {},
   "outputs": [
    {
     "data": {
      "text/html": [
       "<div>\n",
       "<style scoped>\n",
       "    .dataframe tbody tr th:only-of-type {\n",
       "        vertical-align: middle;\n",
       "    }\n",
       "\n",
       "    .dataframe tbody tr th {\n",
       "        vertical-align: top;\n",
       "    }\n",
       "\n",
       "    .dataframe thead th {\n",
       "        text-align: right;\n",
       "    }\n",
       "</style>\n",
       "<table border=\"1\" class=\"dataframe\">\n",
       "  <thead>\n",
       "    <tr style=\"text-align: right;\">\n",
       "      <th></th>\n",
       "      <th>height</th>\n",
       "      <th>weight</th>\n",
       "      <th>age</th>\n",
       "      <th>overall_rating</th>\n",
       "      <th>rating_stars</th>\n",
       "    </tr>\n",
       "  </thead>\n",
       "  <tbody>\n",
       "    <tr>\n",
       "      <th>0</th>\n",
       "      <td>0.457627</td>\n",
       "      <td>0.338235</td>\n",
       "      <td>0.428571</td>\n",
       "      <td>0.954545</td>\n",
       "      <td>5.0</td>\n",
       "    </tr>\n",
       "    <tr>\n",
       "      <th>1</th>\n",
       "      <td>0.762712</td>\n",
       "      <td>0.691176</td>\n",
       "      <td>0.642857</td>\n",
       "      <td>0.886364</td>\n",
       "      <td>5.0</td>\n",
       "    </tr>\n",
       "    <tr>\n",
       "      <th>2</th>\n",
       "      <td>0.508475</td>\n",
       "      <td>0.470588</td>\n",
       "      <td>0.392857</td>\n",
       "      <td>0.409091</td>\n",
       "      <td>1.0</td>\n",
       "    </tr>\n",
       "    <tr>\n",
       "      <th>3</th>\n",
       "      <td>0.610169</td>\n",
       "      <td>0.411765</td>\n",
       "      <td>0.464286</td>\n",
       "      <td>0.363636</td>\n",
       "      <td>1.0</td>\n",
       "    </tr>\n",
       "    <tr>\n",
       "      <th>4</th>\n",
       "      <td>0.593220</td>\n",
       "      <td>0.426471</td>\n",
       "      <td>0.428571</td>\n",
       "      <td>0.363636</td>\n",
       "      <td>1.0</td>\n",
       "    </tr>\n",
       "    <tr>\n",
       "      <th>...</th>\n",
       "      <td>...</td>\n",
       "      <td>...</td>\n",
       "      <td>...</td>\n",
       "      <td>...</td>\n",
       "      <td>...</td>\n",
       "    </tr>\n",
       "    <tr>\n",
       "      <th>15026</th>\n",
       "      <td>0.762712</td>\n",
       "      <td>0.617647</td>\n",
       "      <td>0.857143</td>\n",
       "      <td>0.590909</td>\n",
       "      <td>3.0</td>\n",
       "    </tr>\n",
       "    <tr>\n",
       "      <th>15027</th>\n",
       "      <td>0.762712</td>\n",
       "      <td>0.558824</td>\n",
       "      <td>0.785714</td>\n",
       "      <td>0.522727</td>\n",
       "      <td>3.0</td>\n",
       "    </tr>\n",
       "    <tr>\n",
       "      <th>15028</th>\n",
       "      <td>0.610169</td>\n",
       "      <td>0.514706</td>\n",
       "      <td>0.750000</td>\n",
       "      <td>0.636364</td>\n",
       "      <td>2.0</td>\n",
       "    </tr>\n",
       "    <tr>\n",
       "      <th>15029</th>\n",
       "      <td>0.593220</td>\n",
       "      <td>0.485294</td>\n",
       "      <td>0.714286</td>\n",
       "      <td>0.568182</td>\n",
       "      <td>2.0</td>\n",
       "    </tr>\n",
       "    <tr>\n",
       "      <th>15030</th>\n",
       "      <td>0.728814</td>\n",
       "      <td>0.558824</td>\n",
       "      <td>0.928571</td>\n",
       "      <td>0.772727</td>\n",
       "      <td>3.0</td>\n",
       "    </tr>\n",
       "  </tbody>\n",
       "</table>\n",
       "<p>15031 rows × 5 columns</p>\n",
       "</div>"
      ],
      "text/plain": [
       "         height    weight       age  overall_rating  rating_stars\n",
       "0      0.457627  0.338235  0.428571        0.954545           5.0\n",
       "1      0.762712  0.691176  0.642857        0.886364           5.0\n",
       "2      0.508475  0.470588  0.392857        0.409091           1.0\n",
       "3      0.610169  0.411765  0.464286        0.363636           1.0\n",
       "4      0.593220  0.426471  0.428571        0.363636           1.0\n",
       "...         ...       ...       ...             ...           ...\n",
       "15026  0.762712  0.617647  0.857143        0.590909           3.0\n",
       "15027  0.762712  0.558824  0.785714        0.522727           3.0\n",
       "15028  0.610169  0.514706  0.750000        0.636364           2.0\n",
       "15029  0.593220  0.485294  0.714286        0.568182           2.0\n",
       "15030  0.728814  0.558824  0.928571        0.772727           3.0\n",
       "\n",
       "[15031 rows x 5 columns]"
      ]
     },
     "execution_count": 24,
     "metadata": {},
     "output_type": "execute_result"
    }
   ],
   "source": [
    "normalized_dataset_pes = pd.DataFrame(minMaxScaler.fit_transform(normalized_dataset_pes[['height','weight','age','overall_rating']]), columns = ['height','weight','age','overall_rating'])\n",
    "normalized_dataset_pes = normalized_dataset_pes.join(dataset_pes['rating_stars'])\n",
    "normalized_dataset_pes"
   ]
  },
  {
   "cell_type": "markdown",
   "id": "269ab57f-4905-438b-8b42-61948d349e54",
   "metadata": {},
   "source": [
    "### DATA SPLIT"
   ]
  },
  {
   "cell_type": "code",
   "execution_count": 26,
   "id": "47b22dc1-77af-4665-a16d-3ff66aafe8f0",
   "metadata": {},
   "outputs": [],
   "source": [
    "data = dataset_pes[['height','weight','age','overall_rating']]\n",
    "label = dataset_pes['rating_stars']\n",
    "\n",
    "data_train, data_test, label_train, label_test = train_test_split(data, label, test_size=.3)"
   ]
  },
  {
   "cell_type": "code",
   "execution_count": 27,
   "id": "8a7de29d-1204-4f9f-9114-15d71ab2b00e",
   "metadata": {},
   "outputs": [
    {
     "name": "stdout",
     "output_type": "stream",
     "text": [
      "panjang data training 10521\n",
      "panjang label training 10521\n",
      "panjang data testing 4510\n",
      "panjang label testing 4510\n"
     ]
    }
   ],
   "source": [
    "print(f'panjang data training {len(data_train)}',\n",
    "     f'panjang label training {len(label_train)}',\n",
    "     f'panjang data testing {len(data_test)}',\n",
    "     f'panjang label testing {len(label_test)}',\n",
    "     sep='\\n')"
   ]
  },
  {
   "cell_type": "markdown",
   "id": "bf092d7e-2ef4-4fbc-8021-acc55558ce86",
   "metadata": {},
   "source": [
    "### KNN"
   ]
  },
  {
   "cell_type": "code",
   "execution_count": 28,
   "id": "ce4d43fd-e9f1-486b-8d32-fa2ef76fa1ad",
   "metadata": {},
   "outputs": [
    {
     "data": {
      "text/html": [
       "<style>#sk-container-id-1 {color: black;background-color: white;}#sk-container-id-1 pre{padding: 0;}#sk-container-id-1 div.sk-toggleable {background-color: white;}#sk-container-id-1 label.sk-toggleable__label {cursor: pointer;display: block;width: 100%;margin-bottom: 0;padding: 0.3em;box-sizing: border-box;text-align: center;}#sk-container-id-1 label.sk-toggleable__label-arrow:before {content: \"▸\";float: left;margin-right: 0.25em;color: #696969;}#sk-container-id-1 label.sk-toggleable__label-arrow:hover:before {color: black;}#sk-container-id-1 div.sk-estimator:hover label.sk-toggleable__label-arrow:before {color: black;}#sk-container-id-1 div.sk-toggleable__content {max-height: 0;max-width: 0;overflow: hidden;text-align: left;background-color: #f0f8ff;}#sk-container-id-1 div.sk-toggleable__content pre {margin: 0.2em;color: black;border-radius: 0.25em;background-color: #f0f8ff;}#sk-container-id-1 input.sk-toggleable__control:checked~div.sk-toggleable__content {max-height: 200px;max-width: 100%;overflow: auto;}#sk-container-id-1 input.sk-toggleable__control:checked~label.sk-toggleable__label-arrow:before {content: \"▾\";}#sk-container-id-1 div.sk-estimator input.sk-toggleable__control:checked~label.sk-toggleable__label {background-color: #d4ebff;}#sk-container-id-1 div.sk-label input.sk-toggleable__control:checked~label.sk-toggleable__label {background-color: #d4ebff;}#sk-container-id-1 input.sk-hidden--visually {border: 0;clip: rect(1px 1px 1px 1px);clip: rect(1px, 1px, 1px, 1px);height: 1px;margin: -1px;overflow: hidden;padding: 0;position: absolute;width: 1px;}#sk-container-id-1 div.sk-estimator {font-family: monospace;background-color: #f0f8ff;border: 1px dotted black;border-radius: 0.25em;box-sizing: border-box;margin-bottom: 0.5em;}#sk-container-id-1 div.sk-estimator:hover {background-color: #d4ebff;}#sk-container-id-1 div.sk-parallel-item::after {content: \"\";width: 100%;border-bottom: 1px solid gray;flex-grow: 1;}#sk-container-id-1 div.sk-label:hover label.sk-toggleable__label {background-color: #d4ebff;}#sk-container-id-1 div.sk-serial::before {content: \"\";position: absolute;border-left: 1px solid gray;box-sizing: border-box;top: 0;bottom: 0;left: 50%;z-index: 0;}#sk-container-id-1 div.sk-serial {display: flex;flex-direction: column;align-items: center;background-color: white;padding-right: 0.2em;padding-left: 0.2em;position: relative;}#sk-container-id-1 div.sk-item {position: relative;z-index: 1;}#sk-container-id-1 div.sk-parallel {display: flex;align-items: stretch;justify-content: center;background-color: white;position: relative;}#sk-container-id-1 div.sk-item::before, #sk-container-id-1 div.sk-parallel-item::before {content: \"\";position: absolute;border-left: 1px solid gray;box-sizing: border-box;top: 0;bottom: 0;left: 50%;z-index: -1;}#sk-container-id-1 div.sk-parallel-item {display: flex;flex-direction: column;z-index: 1;position: relative;background-color: white;}#sk-container-id-1 div.sk-parallel-item:first-child::after {align-self: flex-end;width: 50%;}#sk-container-id-1 div.sk-parallel-item:last-child::after {align-self: flex-start;width: 50%;}#sk-container-id-1 div.sk-parallel-item:only-child::after {width: 0;}#sk-container-id-1 div.sk-dashed-wrapped {border: 1px dashed gray;margin: 0 0.4em 0.5em 0.4em;box-sizing: border-box;padding-bottom: 0.4em;background-color: white;}#sk-container-id-1 div.sk-label label {font-family: monospace;font-weight: bold;display: inline-block;line-height: 1.2em;}#sk-container-id-1 div.sk-label-container {text-align: center;}#sk-container-id-1 div.sk-container {/* jupyter's `normalize.less` sets `[hidden] { display: none; }` but bootstrap.min.css set `[hidden] { display: none !important; }` so we also need the `!important` here to be able to override the default hidden behavior on the sphinx rendered scikit-learn.org. See: https://github.com/scikit-learn/scikit-learn/issues/21755 */display: inline-block !important;position: relative;}#sk-container-id-1 div.sk-text-repr-fallback {display: none;}</style><div id=\"sk-container-id-1\" class=\"sk-top-container\"><div class=\"sk-text-repr-fallback\"><pre>KNeighborsClassifier()</pre><b>In a Jupyter environment, please rerun this cell to show the HTML representation or trust the notebook. <br />On GitHub, the HTML representation is unable to render, please try loading this page with nbviewer.org.</b></div><div class=\"sk-container\" hidden><div class=\"sk-item\"><div class=\"sk-estimator sk-toggleable\"><input class=\"sk-toggleable__control sk-hidden--visually\" id=\"sk-estimator-id-1\" type=\"checkbox\" checked><label for=\"sk-estimator-id-1\" class=\"sk-toggleable__label sk-toggleable__label-arrow\">KNeighborsClassifier</label><div class=\"sk-toggleable__content\"><pre>KNeighborsClassifier()</pre></div></div></div></div></div>"
      ],
      "text/plain": [
       "KNeighborsClassifier()"
      ]
     },
     "execution_count": 28,
     "metadata": {},
     "output_type": "execute_result"
    }
   ],
   "source": [
    "KNN = KNeighborsClassifier(n_neighbors=5)\n",
    "KNN.fit(data_train,label_train)"
   ]
  },
  {
   "cell_type": "code",
   "execution_count": 29,
   "id": "47b83811-ff47-4a59-9c35-71452cd6168c",
   "metadata": {},
   "outputs": [],
   "source": [
    "predict_label_knn = KNN.predict(data_test)"
   ]
  },
  {
   "cell_type": "code",
   "execution_count": 30,
   "id": "16ef07b5-c69d-49f8-b60f-ed67c085ab55",
   "metadata": {},
   "outputs": [],
   "source": [
    "akurasi_knn = accuracy_score(label_test, predict_label_knn)"
   ]
  },
  {
   "cell_type": "code",
   "execution_count": 31,
   "id": "625af6da-acad-49fc-a757-dd9d881745bc",
   "metadata": {},
   "outputs": [],
   "source": [
    "model_knn_score = KNN.score(data_test, label_test)"
   ]
  },
  {
   "cell_type": "code",
   "execution_count": 32,
   "id": "fc48e2e8-faba-4995-9c41-8184881fd5ce",
   "metadata": {},
   "outputs": [
    {
     "name": "stdout",
     "output_type": "stream",
     "text": [
      "Akurasi Score KNN\t\t: 0.9554323725055432\n",
      "Model Score KNN\t\t: 0.9554323725055432\n"
     ]
    }
   ],
   "source": [
    "print(f'Akurasi Score KNN\\t\\t: {akurasi_knn}')\n",
    "print(f'Model Score KNN\\t\\t: {model_knn_score}')"
   ]
  },
  {
   "cell_type": "markdown",
   "id": "7eb8f292-b47b-4620-b2a3-11903d5cf596",
   "metadata": {},
   "source": [
    "### Decision Tree"
   ]
  },
  {
   "cell_type": "code",
   "execution_count": 33,
   "id": "a385a00d-318f-4465-aa17-63d0579d8cf7",
   "metadata": {},
   "outputs": [
    {
     "data": {
      "text/html": [
       "<style>#sk-container-id-2 {color: black;background-color: white;}#sk-container-id-2 pre{padding: 0;}#sk-container-id-2 div.sk-toggleable {background-color: white;}#sk-container-id-2 label.sk-toggleable__label {cursor: pointer;display: block;width: 100%;margin-bottom: 0;padding: 0.3em;box-sizing: border-box;text-align: center;}#sk-container-id-2 label.sk-toggleable__label-arrow:before {content: \"▸\";float: left;margin-right: 0.25em;color: #696969;}#sk-container-id-2 label.sk-toggleable__label-arrow:hover:before {color: black;}#sk-container-id-2 div.sk-estimator:hover label.sk-toggleable__label-arrow:before {color: black;}#sk-container-id-2 div.sk-toggleable__content {max-height: 0;max-width: 0;overflow: hidden;text-align: left;background-color: #f0f8ff;}#sk-container-id-2 div.sk-toggleable__content pre {margin: 0.2em;color: black;border-radius: 0.25em;background-color: #f0f8ff;}#sk-container-id-2 input.sk-toggleable__control:checked~div.sk-toggleable__content {max-height: 200px;max-width: 100%;overflow: auto;}#sk-container-id-2 input.sk-toggleable__control:checked~label.sk-toggleable__label-arrow:before {content: \"▾\";}#sk-container-id-2 div.sk-estimator input.sk-toggleable__control:checked~label.sk-toggleable__label {background-color: #d4ebff;}#sk-container-id-2 div.sk-label input.sk-toggleable__control:checked~label.sk-toggleable__label {background-color: #d4ebff;}#sk-container-id-2 input.sk-hidden--visually {border: 0;clip: rect(1px 1px 1px 1px);clip: rect(1px, 1px, 1px, 1px);height: 1px;margin: -1px;overflow: hidden;padding: 0;position: absolute;width: 1px;}#sk-container-id-2 div.sk-estimator {font-family: monospace;background-color: #f0f8ff;border: 1px dotted black;border-radius: 0.25em;box-sizing: border-box;margin-bottom: 0.5em;}#sk-container-id-2 div.sk-estimator:hover {background-color: #d4ebff;}#sk-container-id-2 div.sk-parallel-item::after {content: \"\";width: 100%;border-bottom: 1px solid gray;flex-grow: 1;}#sk-container-id-2 div.sk-label:hover label.sk-toggleable__label {background-color: #d4ebff;}#sk-container-id-2 div.sk-serial::before {content: \"\";position: absolute;border-left: 1px solid gray;box-sizing: border-box;top: 0;bottom: 0;left: 50%;z-index: 0;}#sk-container-id-2 div.sk-serial {display: flex;flex-direction: column;align-items: center;background-color: white;padding-right: 0.2em;padding-left: 0.2em;position: relative;}#sk-container-id-2 div.sk-item {position: relative;z-index: 1;}#sk-container-id-2 div.sk-parallel {display: flex;align-items: stretch;justify-content: center;background-color: white;position: relative;}#sk-container-id-2 div.sk-item::before, #sk-container-id-2 div.sk-parallel-item::before {content: \"\";position: absolute;border-left: 1px solid gray;box-sizing: border-box;top: 0;bottom: 0;left: 50%;z-index: -1;}#sk-container-id-2 div.sk-parallel-item {display: flex;flex-direction: column;z-index: 1;position: relative;background-color: white;}#sk-container-id-2 div.sk-parallel-item:first-child::after {align-self: flex-end;width: 50%;}#sk-container-id-2 div.sk-parallel-item:last-child::after {align-self: flex-start;width: 50%;}#sk-container-id-2 div.sk-parallel-item:only-child::after {width: 0;}#sk-container-id-2 div.sk-dashed-wrapped {border: 1px dashed gray;margin: 0 0.4em 0.5em 0.4em;box-sizing: border-box;padding-bottom: 0.4em;background-color: white;}#sk-container-id-2 div.sk-label label {font-family: monospace;font-weight: bold;display: inline-block;line-height: 1.2em;}#sk-container-id-2 div.sk-label-container {text-align: center;}#sk-container-id-2 div.sk-container {/* jupyter's `normalize.less` sets `[hidden] { display: none; }` but bootstrap.min.css set `[hidden] { display: none !important; }` so we also need the `!important` here to be able to override the default hidden behavior on the sphinx rendered scikit-learn.org. See: https://github.com/scikit-learn/scikit-learn/issues/21755 */display: inline-block !important;position: relative;}#sk-container-id-2 div.sk-text-repr-fallback {display: none;}</style><div id=\"sk-container-id-2\" class=\"sk-top-container\"><div class=\"sk-text-repr-fallback\"><pre>DecisionTreeClassifier()</pre><b>In a Jupyter environment, please rerun this cell to show the HTML representation or trust the notebook. <br />On GitHub, the HTML representation is unable to render, please try loading this page with nbviewer.org.</b></div><div class=\"sk-container\" hidden><div class=\"sk-item\"><div class=\"sk-estimator sk-toggleable\"><input class=\"sk-toggleable__control sk-hidden--visually\" id=\"sk-estimator-id-2\" type=\"checkbox\" checked><label for=\"sk-estimator-id-2\" class=\"sk-toggleable__label sk-toggleable__label-arrow\">DecisionTreeClassifier</label><div class=\"sk-toggleable__content\"><pre>DecisionTreeClassifier()</pre></div></div></div></div></div>"
      ],
      "text/plain": [
       "DecisionTreeClassifier()"
      ]
     },
     "execution_count": 33,
     "metadata": {},
     "output_type": "execute_result"
    }
   ],
   "source": [
    "DT = DecisionTreeClassifier()\n",
    "DT.fit(data_train, label_train)"
   ]
  },
  {
   "cell_type": "code",
   "execution_count": 34,
   "id": "c467d195-a5a7-4e7f-b621-1056e6bf30e7",
   "metadata": {},
   "outputs": [],
   "source": [
    "predict_label_dt = DT.predict(data_test)"
   ]
  },
  {
   "cell_type": "code",
   "execution_count": 35,
   "id": "aa6b4cd6-20d9-4499-9a58-5c37fff37ccb",
   "metadata": {},
   "outputs": [],
   "source": [
    "akurasi_dt = accuracy_score(label_test, predict_label_dt)"
   ]
  },
  {
   "cell_type": "code",
   "execution_count": 36,
   "id": "0e947e22-1f72-49db-a743-ab3625830c59",
   "metadata": {},
   "outputs": [],
   "source": [
    "model_dt_score = DT.score(data_test, label_test)"
   ]
  },
  {
   "cell_type": "code",
   "execution_count": 37,
   "id": "d8a119c1-ee50-490c-889d-64adc3809077",
   "metadata": {},
   "outputs": [
    {
     "name": "stdout",
     "output_type": "stream",
     "text": [
      "akurasi Score DT\t\t: 1.0\n",
      "Model Score DT\t\t: 1.0\n"
     ]
    }
   ],
   "source": [
    "print(f'akurasi Score DT\\t\\t: {akurasi_dt}')\n",
    "print(f'Model Score DT\\t\\t: {model_dt_score}')"
   ]
  },
  {
   "cell_type": "markdown",
   "id": "ec2733be-902b-4013-9780-9e02620ca857",
   "metadata": {},
   "source": [
    "### Naive Bayes"
   ]
  },
  {
   "cell_type": "code",
   "execution_count": 38,
   "id": "c95f3052-1041-4521-abb5-56f3b2370497",
   "metadata": {},
   "outputs": [
    {
     "data": {
      "text/html": [
       "<style>#sk-container-id-3 {color: black;background-color: white;}#sk-container-id-3 pre{padding: 0;}#sk-container-id-3 div.sk-toggleable {background-color: white;}#sk-container-id-3 label.sk-toggleable__label {cursor: pointer;display: block;width: 100%;margin-bottom: 0;padding: 0.3em;box-sizing: border-box;text-align: center;}#sk-container-id-3 label.sk-toggleable__label-arrow:before {content: \"▸\";float: left;margin-right: 0.25em;color: #696969;}#sk-container-id-3 label.sk-toggleable__label-arrow:hover:before {color: black;}#sk-container-id-3 div.sk-estimator:hover label.sk-toggleable__label-arrow:before {color: black;}#sk-container-id-3 div.sk-toggleable__content {max-height: 0;max-width: 0;overflow: hidden;text-align: left;background-color: #f0f8ff;}#sk-container-id-3 div.sk-toggleable__content pre {margin: 0.2em;color: black;border-radius: 0.25em;background-color: #f0f8ff;}#sk-container-id-3 input.sk-toggleable__control:checked~div.sk-toggleable__content {max-height: 200px;max-width: 100%;overflow: auto;}#sk-container-id-3 input.sk-toggleable__control:checked~label.sk-toggleable__label-arrow:before {content: \"▾\";}#sk-container-id-3 div.sk-estimator input.sk-toggleable__control:checked~label.sk-toggleable__label {background-color: #d4ebff;}#sk-container-id-3 div.sk-label input.sk-toggleable__control:checked~label.sk-toggleable__label {background-color: #d4ebff;}#sk-container-id-3 input.sk-hidden--visually {border: 0;clip: rect(1px 1px 1px 1px);clip: rect(1px, 1px, 1px, 1px);height: 1px;margin: -1px;overflow: hidden;padding: 0;position: absolute;width: 1px;}#sk-container-id-3 div.sk-estimator {font-family: monospace;background-color: #f0f8ff;border: 1px dotted black;border-radius: 0.25em;box-sizing: border-box;margin-bottom: 0.5em;}#sk-container-id-3 div.sk-estimator:hover {background-color: #d4ebff;}#sk-container-id-3 div.sk-parallel-item::after {content: \"\";width: 100%;border-bottom: 1px solid gray;flex-grow: 1;}#sk-container-id-3 div.sk-label:hover label.sk-toggleable__label {background-color: #d4ebff;}#sk-container-id-3 div.sk-serial::before {content: \"\";position: absolute;border-left: 1px solid gray;box-sizing: border-box;top: 0;bottom: 0;left: 50%;z-index: 0;}#sk-container-id-3 div.sk-serial {display: flex;flex-direction: column;align-items: center;background-color: white;padding-right: 0.2em;padding-left: 0.2em;position: relative;}#sk-container-id-3 div.sk-item {position: relative;z-index: 1;}#sk-container-id-3 div.sk-parallel {display: flex;align-items: stretch;justify-content: center;background-color: white;position: relative;}#sk-container-id-3 div.sk-item::before, #sk-container-id-3 div.sk-parallel-item::before {content: \"\";position: absolute;border-left: 1px solid gray;box-sizing: border-box;top: 0;bottom: 0;left: 50%;z-index: -1;}#sk-container-id-3 div.sk-parallel-item {display: flex;flex-direction: column;z-index: 1;position: relative;background-color: white;}#sk-container-id-3 div.sk-parallel-item:first-child::after {align-self: flex-end;width: 50%;}#sk-container-id-3 div.sk-parallel-item:last-child::after {align-self: flex-start;width: 50%;}#sk-container-id-3 div.sk-parallel-item:only-child::after {width: 0;}#sk-container-id-3 div.sk-dashed-wrapped {border: 1px dashed gray;margin: 0 0.4em 0.5em 0.4em;box-sizing: border-box;padding-bottom: 0.4em;background-color: white;}#sk-container-id-3 div.sk-label label {font-family: monospace;font-weight: bold;display: inline-block;line-height: 1.2em;}#sk-container-id-3 div.sk-label-container {text-align: center;}#sk-container-id-3 div.sk-container {/* jupyter's `normalize.less` sets `[hidden] { display: none; }` but bootstrap.min.css set `[hidden] { display: none !important; }` so we also need the `!important` here to be able to override the default hidden behavior on the sphinx rendered scikit-learn.org. See: https://github.com/scikit-learn/scikit-learn/issues/21755 */display: inline-block !important;position: relative;}#sk-container-id-3 div.sk-text-repr-fallback {display: none;}</style><div id=\"sk-container-id-3\" class=\"sk-top-container\"><div class=\"sk-text-repr-fallback\"><pre>GaussianNB()</pre><b>In a Jupyter environment, please rerun this cell to show the HTML representation or trust the notebook. <br />On GitHub, the HTML representation is unable to render, please try loading this page with nbviewer.org.</b></div><div class=\"sk-container\" hidden><div class=\"sk-item\"><div class=\"sk-estimator sk-toggleable\"><input class=\"sk-toggleable__control sk-hidden--visually\" id=\"sk-estimator-id-3\" type=\"checkbox\" checked><label for=\"sk-estimator-id-3\" class=\"sk-toggleable__label sk-toggleable__label-arrow\">GaussianNB</label><div class=\"sk-toggleable__content\"><pre>GaussianNB()</pre></div></div></div></div></div>"
      ],
      "text/plain": [
       "GaussianNB()"
      ]
     },
     "execution_count": 38,
     "metadata": {},
     "output_type": "execute_result"
    }
   ],
   "source": [
    "GNB  = GaussianNB()\n",
    "GNB.fit(data_train,label_train)"
   ]
  },
  {
   "cell_type": "code",
   "execution_count": 39,
   "id": "4306cd91-575a-49f1-82c5-5e76f6e13973",
   "metadata": {},
   "outputs": [],
   "source": [
    "predict_label_gnb = GNB.predict(data_test)"
   ]
  },
  {
   "cell_type": "code",
   "execution_count": 40,
   "id": "37fb365d-9852-4ebe-9590-dc43d1ecac88",
   "metadata": {},
   "outputs": [],
   "source": [
    "akurasi_gnb = accuracy_score(label_test, predict_label_gnb)"
   ]
  },
  {
   "cell_type": "code",
   "execution_count": 41,
   "id": "e2b68de4-c634-4e4f-8295-433c10373de2",
   "metadata": {},
   "outputs": [],
   "source": [
    "model_gnb_score = GNB.score(data_test, label_test)"
   ]
  },
  {
   "cell_type": "code",
   "execution_count": 42,
   "id": "7433370b-4740-42da-989f-cec7d6ccf44f",
   "metadata": {},
   "outputs": [
    {
     "name": "stdout",
     "output_type": "stream",
     "text": [
      "akurasi Score GNB\t\t: 0.982039911308204\n",
      "Model Score GNB\t\t: 0.982039911308204\n"
     ]
    }
   ],
   "source": [
    "print(f'akurasi Score GNB\\t\\t: {akurasi_gnb}')\n",
    "print(f'Model Score GNB\\t\\t: {model_gnb_score}')"
   ]
  },
  {
   "cell_type": "markdown",
   "id": "e1811737-d0d2-49d8-b31e-f46fbfef4e95",
   "metadata": {},
   "source": [
    "### Support Vector Machine(SVM)"
   ]
  },
  {
   "cell_type": "code",
   "execution_count": 43,
   "id": "df23b686-eb90-4e26-b180-7b26ab30215e",
   "metadata": {},
   "outputs": [
    {
     "data": {
      "text/html": [
       "<style>#sk-container-id-4 {color: black;background-color: white;}#sk-container-id-4 pre{padding: 0;}#sk-container-id-4 div.sk-toggleable {background-color: white;}#sk-container-id-4 label.sk-toggleable__label {cursor: pointer;display: block;width: 100%;margin-bottom: 0;padding: 0.3em;box-sizing: border-box;text-align: center;}#sk-container-id-4 label.sk-toggleable__label-arrow:before {content: \"▸\";float: left;margin-right: 0.25em;color: #696969;}#sk-container-id-4 label.sk-toggleable__label-arrow:hover:before {color: black;}#sk-container-id-4 div.sk-estimator:hover label.sk-toggleable__label-arrow:before {color: black;}#sk-container-id-4 div.sk-toggleable__content {max-height: 0;max-width: 0;overflow: hidden;text-align: left;background-color: #f0f8ff;}#sk-container-id-4 div.sk-toggleable__content pre {margin: 0.2em;color: black;border-radius: 0.25em;background-color: #f0f8ff;}#sk-container-id-4 input.sk-toggleable__control:checked~div.sk-toggleable__content {max-height: 200px;max-width: 100%;overflow: auto;}#sk-container-id-4 input.sk-toggleable__control:checked~label.sk-toggleable__label-arrow:before {content: \"▾\";}#sk-container-id-4 div.sk-estimator input.sk-toggleable__control:checked~label.sk-toggleable__label {background-color: #d4ebff;}#sk-container-id-4 div.sk-label input.sk-toggleable__control:checked~label.sk-toggleable__label {background-color: #d4ebff;}#sk-container-id-4 input.sk-hidden--visually {border: 0;clip: rect(1px 1px 1px 1px);clip: rect(1px, 1px, 1px, 1px);height: 1px;margin: -1px;overflow: hidden;padding: 0;position: absolute;width: 1px;}#sk-container-id-4 div.sk-estimator {font-family: monospace;background-color: #f0f8ff;border: 1px dotted black;border-radius: 0.25em;box-sizing: border-box;margin-bottom: 0.5em;}#sk-container-id-4 div.sk-estimator:hover {background-color: #d4ebff;}#sk-container-id-4 div.sk-parallel-item::after {content: \"\";width: 100%;border-bottom: 1px solid gray;flex-grow: 1;}#sk-container-id-4 div.sk-label:hover label.sk-toggleable__label {background-color: #d4ebff;}#sk-container-id-4 div.sk-serial::before {content: \"\";position: absolute;border-left: 1px solid gray;box-sizing: border-box;top: 0;bottom: 0;left: 50%;z-index: 0;}#sk-container-id-4 div.sk-serial {display: flex;flex-direction: column;align-items: center;background-color: white;padding-right: 0.2em;padding-left: 0.2em;position: relative;}#sk-container-id-4 div.sk-item {position: relative;z-index: 1;}#sk-container-id-4 div.sk-parallel {display: flex;align-items: stretch;justify-content: center;background-color: white;position: relative;}#sk-container-id-4 div.sk-item::before, #sk-container-id-4 div.sk-parallel-item::before {content: \"\";position: absolute;border-left: 1px solid gray;box-sizing: border-box;top: 0;bottom: 0;left: 50%;z-index: -1;}#sk-container-id-4 div.sk-parallel-item {display: flex;flex-direction: column;z-index: 1;position: relative;background-color: white;}#sk-container-id-4 div.sk-parallel-item:first-child::after {align-self: flex-end;width: 50%;}#sk-container-id-4 div.sk-parallel-item:last-child::after {align-self: flex-start;width: 50%;}#sk-container-id-4 div.sk-parallel-item:only-child::after {width: 0;}#sk-container-id-4 div.sk-dashed-wrapped {border: 1px dashed gray;margin: 0 0.4em 0.5em 0.4em;box-sizing: border-box;padding-bottom: 0.4em;background-color: white;}#sk-container-id-4 div.sk-label label {font-family: monospace;font-weight: bold;display: inline-block;line-height: 1.2em;}#sk-container-id-4 div.sk-label-container {text-align: center;}#sk-container-id-4 div.sk-container {/* jupyter's `normalize.less` sets `[hidden] { display: none; }` but bootstrap.min.css set `[hidden] { display: none !important; }` so we also need the `!important` here to be able to override the default hidden behavior on the sphinx rendered scikit-learn.org. See: https://github.com/scikit-learn/scikit-learn/issues/21755 */display: inline-block !important;position: relative;}#sk-container-id-4 div.sk-text-repr-fallback {display: none;}</style><div id=\"sk-container-id-4\" class=\"sk-top-container\"><div class=\"sk-text-repr-fallback\"><pre>SVC()</pre><b>In a Jupyter environment, please rerun this cell to show the HTML representation or trust the notebook. <br />On GitHub, the HTML representation is unable to render, please try loading this page with nbviewer.org.</b></div><div class=\"sk-container\" hidden><div class=\"sk-item\"><div class=\"sk-estimator sk-toggleable\"><input class=\"sk-toggleable__control sk-hidden--visually\" id=\"sk-estimator-id-4\" type=\"checkbox\" checked><label for=\"sk-estimator-id-4\" class=\"sk-toggleable__label sk-toggleable__label-arrow\">SVC</label><div class=\"sk-toggleable__content\"><pre>SVC()</pre></div></div></div></div></div>"
      ],
      "text/plain": [
       "SVC()"
      ]
     },
     "execution_count": 43,
     "metadata": {},
     "output_type": "execute_result"
    }
   ],
   "source": [
    "SVC = SVC()\n",
    "SVC.fit(data_train,label_train)"
   ]
  },
  {
   "cell_type": "code",
   "execution_count": 44,
   "id": "99169440-89a5-45fa-93dd-5af3206adbb6",
   "metadata": {},
   "outputs": [],
   "source": [
    "predict_label_svc = SVC.predict(data_test)"
   ]
  },
  {
   "cell_type": "code",
   "execution_count": 45,
   "id": "1926ca62-1f5c-49af-86a8-8ec1e5b7f9de",
   "metadata": {},
   "outputs": [],
   "source": [
    "akurasi_svc = accuracy_score(label_test, predict_label_svc)"
   ]
  },
  {
   "cell_type": "code",
   "execution_count": 46,
   "id": "e6ad1d2c-f20d-4f3d-b575-f444690a21fc",
   "metadata": {},
   "outputs": [],
   "source": [
    "model_svc_score = SVC.score(data_test, label_test)"
   ]
  },
  {
   "cell_type": "code",
   "execution_count": 47,
   "id": "d4d95ee6-b7e1-4ef3-be5e-40a7276d36d4",
   "metadata": {},
   "outputs": [
    {
     "name": "stdout",
     "output_type": "stream",
     "text": [
      "akurasi Score KNN\t\t: 0.9605321507760533\n",
      "Model Score DT\t\t: 0.9605321507760533\n"
     ]
    }
   ],
   "source": [
    "print(f'akurasi Score KNN\\t\\t: {akurasi_svc}')\n",
    "print(f'Model Score DT\\t\\t: {model_svc_score}')"
   ]
  }
 ],
 "metadata": {
  "kernelspec": {
   "display_name": "Python 3 (ipykernel)",
   "language": "python",
   "name": "python3"
  },
  "language_info": {
   "codemirror_mode": {
    "name": "ipython",
    "version": 3
   },
   "file_extension": ".py",
   "mimetype": "text/x-python",
   "name": "python",
   "nbconvert_exporter": "python",
   "pygments_lexer": "ipython3",
   "version": "3.10.7"
  }
 },
 "nbformat": 4,
 "nbformat_minor": 5
}
